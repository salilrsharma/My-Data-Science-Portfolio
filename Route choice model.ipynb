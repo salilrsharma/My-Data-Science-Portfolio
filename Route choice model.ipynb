{
 "cells": [
  {
   "cell_type": "markdown",
   "id": "annual-distributor",
   "metadata": {},
   "source": [
    "# Introduction"
   ]
  },
  {
   "cell_type": "markdown",
   "id": "daily-smooth",
   "metadata": {},
   "source": [
    "Road transport has been the main choice for inland freight transport within the European Union accounting for 76.30% of the modal share in 2019. Especially in the Netherlands where the port of Rotterdam generates most of the freight activity, the share of road freight is estimated at over 50% in 2019 *(1)*. This reliance on road transport calls for robust and reliable traffic operations. On the one hand, freight transport contributes to congestion and on the other hand, trucking companies in the Netherlands have suffered economic damage due to road congestion. This economic damage is estimated to be 1.5 billion euros for 2019 and this cost has been increasing yearly *(2)*. Therefore, a thorough investigation of on-trip route choices of truck drivers is fundamental to our understanding of how road freight moves which in turn can support the development of advanced traffic and logistics interventions. \n",
    "\n",
    "For more information, the reader may refer to:\n",
    "\n",
    "Sharma, S., Snelder, M., & Van Lint, H. (2019, June). Deriving on-Trip route choices of truck drivers by utilizing Bluetooth data, loop detector data and variable message sign data. In 2019 6th International Conference on Models and Technologies for Intelligent Transportation Systems (MT-ITS) (pp. 1-8). IEEE, doi: [10.1109/MTITS.2019.8883311](https://ieeexplore.ieee.org/document/8883311)."
   ]
  },
  {
   "cell_type": "markdown",
   "id": "deluxe-charm",
   "metadata": {},
   "source": [
    "# Data"
   ]
  },
  {
   "cell_type": "markdown",
   "id": "incredible-sword",
   "metadata": {},
   "source": [
    "To analyze the route choice behavior of truck drivers, we consider a diversion node where truck drivers are prompted to make a choice. The study area is located near the port of Rotterdam and it also witnesses high truck percentages. The study area comprises the motorway ring (A20, A15, A16, and A4) surrounding Rotterdam in the Netherlands as shown in the following figure. \n",
    "\n",
    "<img src=\"map-2.png\" alt=\"Drawing\" style=\"width: 500px;\"/>\n",
    "\n",
    "We consider the traffic going from the hinterland (node A) to the port of Rotterdam (node B). Two route choices, marked by path 1 and 2, are considered. \n",
    "\n",
    "The dataset includes four attributes.\n",
    "\n",
    "1. **ITT:** Loop detector data, provided by Regiolab-Delft service, is used to compute instantaneous travel times. MATLAB version R2018a is used to call Regiolab-Delft service. Loop detectors are installed at every 500 m of motorways in the Netherlands. It is assumed that the traffic conditions do not change for every section between the detector locations. Aggregated speed values for every detector location are retrieved every minute. Then for every such section, the instantaneous travel times are calculated from the speed data. For every path, the travel times of individual sections are added. \n",
    "2. **TTR:** Travel time reliability of a path. It is computed from historical travel time data of up to previous 10 days. It is computed using a skewness based indicator. This indicator captures the skewness of the day-to-day travel time variabilities. In contrast to other measures of unreliability which are sensitive to extreme events or outliers, it can be interpreted as the likeliness of incurring a very bad travel time (relative to the median). Mathematically, it is defined as the ratio of the difference between the $90^{th}$ and $50^{th}$ percentile and the difference between the $50^{th}$ and $10^{th}$ percentile.\n",
    "3. **LC:** The lane closures are retrieved from VMS data provided by the Regiolab-Delft service. The lane closures denote a reduction in capacity which could be a proxy for the incidents. This variable is added to test if truck drivers change their routes in response to an incident downstream. At the instant truck drivers reaches the decision node, we select a maximum number of lanes closed along a path in our analysis.\n",
    "4. **TD:** Travel distance of a path.\n",
    "\n",
    "The dataset contain the values of these four attributes individually for both the paths 1 and 2. \n",
    "\n",
    "In addition, the dataset contains the IDs of truck drivers and the availabilty of paths (PATH_AV) to check how many paths were available to truck drivers at the time of their decision making.\n",
    "\n",
    "Next, we load the dataset."
   ]
  },
  {
   "cell_type": "code",
   "execution_count": 1,
   "id": "tired-forest",
   "metadata": {},
   "outputs": [
    {
     "data": {
      "text/html": [
       "<div>\n",
       "<style scoped>\n",
       "    .dataframe tbody tr th:only-of-type {\n",
       "        vertical-align: middle;\n",
       "    }\n",
       "\n",
       "    .dataframe tbody tr th {\n",
       "        vertical-align: top;\n",
       "    }\n",
       "\n",
       "    .dataframe thead th {\n",
       "        text-align: right;\n",
       "    }\n",
       "</style>\n",
       "<table border=\"1\" class=\"dataframe\">\n",
       "  <thead>\n",
       "    <tr style=\"text-align: right;\">\n",
       "      <th></th>\n",
       "      <th>ID</th>\n",
       "      <th>PATH1_AV</th>\n",
       "      <th>PATH2_AV</th>\n",
       "      <th>PATH_CHOICE</th>\n",
       "      <th>ITT_1</th>\n",
       "      <th>TTR_1</th>\n",
       "      <th>LC_1</th>\n",
       "      <th>TD_1</th>\n",
       "      <th>ITT_2</th>\n",
       "      <th>TTR_2</th>\n",
       "      <th>LC_2</th>\n",
       "      <th>TD_2</th>\n",
       "    </tr>\n",
       "  </thead>\n",
       "  <tbody>\n",
       "    <tr>\n",
       "      <th>0</th>\n",
       "      <td>1</td>\n",
       "      <td>1</td>\n",
       "      <td>1</td>\n",
       "      <td>2</td>\n",
       "      <td>21.17</td>\n",
       "      <td>1.33</td>\n",
       "      <td>0</td>\n",
       "      <td>27.6</td>\n",
       "      <td>21.09</td>\n",
       "      <td>3.02</td>\n",
       "      <td>0</td>\n",
       "      <td>23.1</td>\n",
       "    </tr>\n",
       "    <tr>\n",
       "      <th>1</th>\n",
       "      <td>2</td>\n",
       "      <td>1</td>\n",
       "      <td>1</td>\n",
       "      <td>1</td>\n",
       "      <td>19.19</td>\n",
       "      <td>1.64</td>\n",
       "      <td>0</td>\n",
       "      <td>27.6</td>\n",
       "      <td>17.85</td>\n",
       "      <td>0.85</td>\n",
       "      <td>0</td>\n",
       "      <td>23.1</td>\n",
       "    </tr>\n",
       "    <tr>\n",
       "      <th>2</th>\n",
       "      <td>3</td>\n",
       "      <td>1</td>\n",
       "      <td>1</td>\n",
       "      <td>2</td>\n",
       "      <td>17.12</td>\n",
       "      <td>1.12</td>\n",
       "      <td>0</td>\n",
       "      <td>27.6</td>\n",
       "      <td>15.73</td>\n",
       "      <td>0.55</td>\n",
       "      <td>0</td>\n",
       "      <td>23.1</td>\n",
       "    </tr>\n",
       "    <tr>\n",
       "      <th>3</th>\n",
       "      <td>3</td>\n",
       "      <td>1</td>\n",
       "      <td>1</td>\n",
       "      <td>2</td>\n",
       "      <td>19.44</td>\n",
       "      <td>0.50</td>\n",
       "      <td>0</td>\n",
       "      <td>27.6</td>\n",
       "      <td>28.06</td>\n",
       "      <td>1.79</td>\n",
       "      <td>0</td>\n",
       "      <td>23.1</td>\n",
       "    </tr>\n",
       "    <tr>\n",
       "      <th>4</th>\n",
       "      <td>4</td>\n",
       "      <td>1</td>\n",
       "      <td>1</td>\n",
       "      <td>2</td>\n",
       "      <td>20.83</td>\n",
       "      <td>1.57</td>\n",
       "      <td>0</td>\n",
       "      <td>27.6</td>\n",
       "      <td>17.13</td>\n",
       "      <td>5.36</td>\n",
       "      <td>1</td>\n",
       "      <td>23.1</td>\n",
       "    </tr>\n",
       "    <tr>\n",
       "      <th>5</th>\n",
       "      <td>5</td>\n",
       "      <td>1</td>\n",
       "      <td>1</td>\n",
       "      <td>2</td>\n",
       "      <td>25.56</td>\n",
       "      <td>2.77</td>\n",
       "      <td>0</td>\n",
       "      <td>27.6</td>\n",
       "      <td>28.79</td>\n",
       "      <td>2.96</td>\n",
       "      <td>0</td>\n",
       "      <td>23.1</td>\n",
       "    </tr>\n",
       "    <tr>\n",
       "      <th>6</th>\n",
       "      <td>6</td>\n",
       "      <td>1</td>\n",
       "      <td>1</td>\n",
       "      <td>2</td>\n",
       "      <td>19.41</td>\n",
       "      <td>1.64</td>\n",
       "      <td>0</td>\n",
       "      <td>27.6</td>\n",
       "      <td>17.89</td>\n",
       "      <td>0.85</td>\n",
       "      <td>0</td>\n",
       "      <td>23.1</td>\n",
       "    </tr>\n",
       "    <tr>\n",
       "      <th>7</th>\n",
       "      <td>7</td>\n",
       "      <td>1</td>\n",
       "      <td>1</td>\n",
       "      <td>2</td>\n",
       "      <td>19.21</td>\n",
       "      <td>2.26</td>\n",
       "      <td>0</td>\n",
       "      <td>27.6</td>\n",
       "      <td>16.58</td>\n",
       "      <td>1.65</td>\n",
       "      <td>0</td>\n",
       "      <td>23.1</td>\n",
       "    </tr>\n",
       "    <tr>\n",
       "      <th>8</th>\n",
       "      <td>8</td>\n",
       "      <td>1</td>\n",
       "      <td>1</td>\n",
       "      <td>2</td>\n",
       "      <td>17.10</td>\n",
       "      <td>2.34</td>\n",
       "      <td>0</td>\n",
       "      <td>27.6</td>\n",
       "      <td>19.30</td>\n",
       "      <td>0.50</td>\n",
       "      <td>0</td>\n",
       "      <td>23.1</td>\n",
       "    </tr>\n",
       "    <tr>\n",
       "      <th>9</th>\n",
       "      <td>9</td>\n",
       "      <td>1</td>\n",
       "      <td>1</td>\n",
       "      <td>2</td>\n",
       "      <td>17.44</td>\n",
       "      <td>1.07</td>\n",
       "      <td>0</td>\n",
       "      <td>27.6</td>\n",
       "      <td>19.31</td>\n",
       "      <td>1.41</td>\n",
       "      <td>0</td>\n",
       "      <td>23.1</td>\n",
       "    </tr>\n",
       "  </tbody>\n",
       "</table>\n",
       "</div>"
      ],
      "text/plain": [
       "   ID  PATH1_AV  PATH2_AV  PATH_CHOICE  ITT_1  TTR_1  LC_1  TD_1  ITT_2  \\\n",
       "0   1         1         1            2  21.17   1.33     0  27.6  21.09   \n",
       "1   2         1         1            1  19.19   1.64     0  27.6  17.85   \n",
       "2   3         1         1            2  17.12   1.12     0  27.6  15.73   \n",
       "3   3         1         1            2  19.44   0.50     0  27.6  28.06   \n",
       "4   4         1         1            2  20.83   1.57     0  27.6  17.13   \n",
       "5   5         1         1            2  25.56   2.77     0  27.6  28.79   \n",
       "6   6         1         1            2  19.41   1.64     0  27.6  17.89   \n",
       "7   7         1         1            2  19.21   2.26     0  27.6  16.58   \n",
       "8   8         1         1            2  17.10   2.34     0  27.6  19.30   \n",
       "9   9         1         1            2  17.44   1.07     0  27.6  19.31   \n",
       "\n",
       "   TTR_2  LC_2  TD_2  \n",
       "0   3.02     0  23.1  \n",
       "1   0.85     0  23.1  \n",
       "2   0.55     0  23.1  \n",
       "3   1.79     0  23.1  \n",
       "4   5.36     1  23.1  \n",
       "5   2.96     0  23.1  \n",
       "6   0.85     0  23.1  \n",
       "7   1.65     0  23.1  \n",
       "8   0.50     0  23.1  \n",
       "9   1.41     0  23.1  "
      ]
     },
     "execution_count": 1,
     "metadata": {},
     "output_type": "execute_result"
    }
   ],
   "source": [
    "import pandas as pd\n",
    "# Read the data\n",
    "df = pd.read_csv('truckdata.txt', sep = '\\t')\n",
    "\n",
    "# Display first ten rows\n",
    "df.head(10)"
   ]
  },
  {
   "cell_type": "markdown",
   "id": "moderate-astrology",
   "metadata": {},
   "source": [
    "In this dataset, attributes have a suffix that denotes their association with a path (1 or 2). "
   ]
  },
  {
   "cell_type": "code",
   "execution_count": 2,
   "id": "subtle-ridge",
   "metadata": {},
   "outputs": [
    {
     "name": "stdout",
     "output_type": "stream",
     "text": [
      "The total number of observations are 1671\n"
     ]
    }
   ],
   "source": [
    "print('The total number of observations are', df.shape[0])"
   ]
  },
  {
   "cell_type": "code",
   "execution_count": 3,
   "id": "false-wisconsin",
   "metadata": {},
   "outputs": [
    {
     "name": "stdout",
     "output_type": "stream",
     "text": [
      "The total number of truck drivers captured in the dataset are 1419\n"
     ]
    }
   ],
   "source": [
    "print('The total number of truck drivers captured in the dataset are', df['ID'].nunique())"
   ]
  },
  {
   "cell_type": "markdown",
   "id": "affected-north",
   "metadata": {},
   "source": [
    "This shows that some of the truck drivers are observed more than once in the dataset."
   ]
  },
  {
   "cell_type": "markdown",
   "id": "formal-attention",
   "metadata": {},
   "source": [
    "Next, we present the descriptive statistics of the dataset."
   ]
  },
  {
   "cell_type": "code",
   "execution_count": 4,
   "id": "checked-boston",
   "metadata": {},
   "outputs": [
    {
     "data": {
      "text/html": [
       "<div>\n",
       "<style scoped>\n",
       "    .dataframe tbody tr th:only-of-type {\n",
       "        vertical-align: middle;\n",
       "    }\n",
       "\n",
       "    .dataframe tbody tr th {\n",
       "        vertical-align: top;\n",
       "    }\n",
       "\n",
       "    .dataframe thead th {\n",
       "        text-align: right;\n",
       "    }\n",
       "</style>\n",
       "<table border=\"1\" class=\"dataframe\">\n",
       "  <thead>\n",
       "    <tr style=\"text-align: right;\">\n",
       "      <th></th>\n",
       "      <th>ID</th>\n",
       "      <th>PATH1_AV</th>\n",
       "      <th>PATH2_AV</th>\n",
       "      <th>PATH_CHOICE</th>\n",
       "      <th>ITT_1</th>\n",
       "      <th>TTR_1</th>\n",
       "      <th>LC_1</th>\n",
       "      <th>TD_1</th>\n",
       "      <th>ITT_2</th>\n",
       "      <th>TTR_2</th>\n",
       "      <th>LC_2</th>\n",
       "      <th>TD_2</th>\n",
       "    </tr>\n",
       "  </thead>\n",
       "  <tbody>\n",
       "    <tr>\n",
       "      <th>count</th>\n",
       "      <td>1671.000000</td>\n",
       "      <td>1671.0</td>\n",
       "      <td>1671.0</td>\n",
       "      <td>1671.000000</td>\n",
       "      <td>1671.000000</td>\n",
       "      <td>1671.000000</td>\n",
       "      <td>1671.000000</td>\n",
       "      <td>1.671000e+03</td>\n",
       "      <td>1671.000000</td>\n",
       "      <td>1671.000000</td>\n",
       "      <td>1671.000000</td>\n",
       "      <td>1.671000e+03</td>\n",
       "    </tr>\n",
       "    <tr>\n",
       "      <th>mean</th>\n",
       "      <td>711.533214</td>\n",
       "      <td>1.0</td>\n",
       "      <td>1.0</td>\n",
       "      <td>1.773788</td>\n",
       "      <td>22.356451</td>\n",
       "      <td>3.917804</td>\n",
       "      <td>0.257929</td>\n",
       "      <td>2.760000e+01</td>\n",
       "      <td>21.190898</td>\n",
       "      <td>4.564458</td>\n",
       "      <td>0.183722</td>\n",
       "      <td>2.310000e+01</td>\n",
       "    </tr>\n",
       "    <tr>\n",
       "      <th>std</th>\n",
       "      <td>406.206205</td>\n",
       "      <td>0.0</td>\n",
       "      <td>0.0</td>\n",
       "      <td>0.418503</td>\n",
       "      <td>7.469346</td>\n",
       "      <td>7.465588</td>\n",
       "      <td>0.485621</td>\n",
       "      <td>8.457990e-13</td>\n",
       "      <td>6.185445</td>\n",
       "      <td>7.756732</td>\n",
       "      <td>0.489774</td>\n",
       "      <td>7.285243e-13</td>\n",
       "    </tr>\n",
       "    <tr>\n",
       "      <th>min</th>\n",
       "      <td>1.000000</td>\n",
       "      <td>1.0</td>\n",
       "      <td>1.0</td>\n",
       "      <td>1.000000</td>\n",
       "      <td>15.600000</td>\n",
       "      <td>0.180000</td>\n",
       "      <td>0.000000</td>\n",
       "      <td>2.760000e+01</td>\n",
       "      <td>14.550000</td>\n",
       "      <td>0.370000</td>\n",
       "      <td>0.000000</td>\n",
       "      <td>2.310000e+01</td>\n",
       "    </tr>\n",
       "    <tr>\n",
       "      <th>25%</th>\n",
       "      <td>361.500000</td>\n",
       "      <td>1.0</td>\n",
       "      <td>1.0</td>\n",
       "      <td>2.000000</td>\n",
       "      <td>17.520000</td>\n",
       "      <td>1.040000</td>\n",
       "      <td>0.000000</td>\n",
       "      <td>2.760000e+01</td>\n",
       "      <td>16.330000</td>\n",
       "      <td>1.080000</td>\n",
       "      <td>0.000000</td>\n",
       "      <td>2.310000e+01</td>\n",
       "    </tr>\n",
       "    <tr>\n",
       "      <th>50%</th>\n",
       "      <td>714.000000</td>\n",
       "      <td>1.0</td>\n",
       "      <td>1.0</td>\n",
       "      <td>2.000000</td>\n",
       "      <td>19.970000</td>\n",
       "      <td>1.470000</td>\n",
       "      <td>0.000000</td>\n",
       "      <td>2.760000e+01</td>\n",
       "      <td>19.070000</td>\n",
       "      <td>2.260000</td>\n",
       "      <td>0.000000</td>\n",
       "      <td>2.310000e+01</td>\n",
       "    </tr>\n",
       "    <tr>\n",
       "      <th>75%</th>\n",
       "      <td>1061.500000</td>\n",
       "      <td>1.0</td>\n",
       "      <td>1.0</td>\n",
       "      <td>2.000000</td>\n",
       "      <td>24.350000</td>\n",
       "      <td>2.790000</td>\n",
       "      <td>0.000000</td>\n",
       "      <td>2.760000e+01</td>\n",
       "      <td>24.985000</td>\n",
       "      <td>4.640000</td>\n",
       "      <td>0.000000</td>\n",
       "      <td>2.310000e+01</td>\n",
       "    </tr>\n",
       "    <tr>\n",
       "      <th>max</th>\n",
       "      <td>1419.000000</td>\n",
       "      <td>1.0</td>\n",
       "      <td>1.0</td>\n",
       "      <td>2.000000</td>\n",
       "      <td>68.060000</td>\n",
       "      <td>40.580000</td>\n",
       "      <td>3.000000</td>\n",
       "      <td>2.760000e+01</td>\n",
       "      <td>57.120000</td>\n",
       "      <td>50.720000</td>\n",
       "      <td>3.000000</td>\n",
       "      <td>2.310000e+01</td>\n",
       "    </tr>\n",
       "  </tbody>\n",
       "</table>\n",
       "</div>"
      ],
      "text/plain": [
       "                ID  PATH1_AV  PATH2_AV  PATH_CHOICE        ITT_1        TTR_1  \\\n",
       "count  1671.000000    1671.0    1671.0  1671.000000  1671.000000  1671.000000   \n",
       "mean    711.533214       1.0       1.0     1.773788    22.356451     3.917804   \n",
       "std     406.206205       0.0       0.0     0.418503     7.469346     7.465588   \n",
       "min       1.000000       1.0       1.0     1.000000    15.600000     0.180000   \n",
       "25%     361.500000       1.0       1.0     2.000000    17.520000     1.040000   \n",
       "50%     714.000000       1.0       1.0     2.000000    19.970000     1.470000   \n",
       "75%    1061.500000       1.0       1.0     2.000000    24.350000     2.790000   \n",
       "max    1419.000000       1.0       1.0     2.000000    68.060000    40.580000   \n",
       "\n",
       "              LC_1          TD_1        ITT_2        TTR_2         LC_2  \\\n",
       "count  1671.000000  1.671000e+03  1671.000000  1671.000000  1671.000000   \n",
       "mean      0.257929  2.760000e+01    21.190898     4.564458     0.183722   \n",
       "std       0.485621  8.457990e-13     6.185445     7.756732     0.489774   \n",
       "min       0.000000  2.760000e+01    14.550000     0.370000     0.000000   \n",
       "25%       0.000000  2.760000e+01    16.330000     1.080000     0.000000   \n",
       "50%       0.000000  2.760000e+01    19.070000     2.260000     0.000000   \n",
       "75%       0.000000  2.760000e+01    24.985000     4.640000     0.000000   \n",
       "max       3.000000  2.760000e+01    57.120000    50.720000     3.000000   \n",
       "\n",
       "               TD_2  \n",
       "count  1.671000e+03  \n",
       "mean   2.310000e+01  \n",
       "std    7.285243e-13  \n",
       "min    2.310000e+01  \n",
       "25%    2.310000e+01  \n",
       "50%    2.310000e+01  \n",
       "75%    2.310000e+01  \n",
       "max    2.310000e+01  "
      ]
     },
     "execution_count": 4,
     "metadata": {},
     "output_type": "execute_result"
    }
   ],
   "source": [
    "df.describe()"
   ]
  },
  {
   "cell_type": "markdown",
   "id": "younger-entertainment",
   "metadata": {},
   "source": [
    "We can draw some insights.\n",
    "1. Both paths 1 and 2 were available to truck drivers at the time they had to make a choice.\n",
    "2. Path 2 is shorter in terms of distance than the path 1."
   ]
  },
  {
   "cell_type": "markdown",
   "id": "changing-european",
   "metadata": {},
   "source": [
    "Next, we look at the distribution of the labels."
   ]
  },
  {
   "cell_type": "code",
   "execution_count": 5,
   "id": "varied-queensland",
   "metadata": {},
   "outputs": [
    {
     "data": {
      "text/plain": [
       "2    1293\n",
       "1     378\n",
       "Name: PATH_CHOICE, dtype: int64"
      ]
     },
     "execution_count": 5,
     "metadata": {},
     "output_type": "execute_result"
    }
   ],
   "source": [
    "df['PATH_CHOICE'].value_counts()"
   ]
  },
  {
   "cell_type": "code",
   "execution_count": 6,
   "id": "authentic-faculty",
   "metadata": {},
   "outputs": [
    {
     "data": {
      "image/png": "[encoded data removed]",
      "text/plain": [
       "<Figure size 576x396 with 1 Axes>"
      ]
     },
     "metadata": {},
     "output_type": "display_data"
    }
   ],
   "source": [
    "import matplotlib.pyplot as plt\n",
    "plt.style.use(\"seaborn\")\n",
    "ax = df['PATH_CHOICE'].value_counts().plot(kind='bar', color='purple')\n",
    "ax.set_xlabel('Path choice')\n",
    "ax.set_ylabel('Number of instances')\n",
    "plt.title('Class distribution');"
   ]
  },
  {
   "cell_type": "markdown",
   "id": "multiple-laptop",
   "metadata": {},
   "source": [
    "The plot clearly shows that truck drivers more often have chosen path 2 in this datset. \n",
    "\n",
    "Next, we look at the presence of the multicollinearity in the dataset."
   ]
  },
  {
   "cell_type": "code",
   "execution_count": 7,
   "id": "indonesian-sentence",
   "metadata": {},
   "outputs": [
    {
     "data": {
      "text/html": [
       "<div>\n",
       "<style scoped>\n",
       "    .dataframe tbody tr th:only-of-type {\n",
       "        vertical-align: middle;\n",
       "    }\n",
       "\n",
       "    .dataframe tbody tr th {\n",
       "        vertical-align: top;\n",
       "    }\n",
       "\n",
       "    .dataframe thead th {\n",
       "        text-align: right;\n",
       "    }\n",
       "</style>\n",
       "<table border=\"1\" class=\"dataframe\">\n",
       "  <thead>\n",
       "    <tr style=\"text-align: right;\">\n",
       "      <th></th>\n",
       "      <th>Features</th>\n",
       "      <th>VIF Factor</th>\n",
       "    </tr>\n",
       "  </thead>\n",
       "  <tbody>\n",
       "    <tr>\n",
       "      <th>0</th>\n",
       "      <td>ITT_1</td>\n",
       "      <td>2.245</td>\n",
       "    </tr>\n",
       "    <tr>\n",
       "      <th>1</th>\n",
       "      <td>TTR_1</td>\n",
       "      <td>1.151</td>\n",
       "    </tr>\n",
       "    <tr>\n",
       "      <th>2</th>\n",
       "      <td>LC_1</td>\n",
       "      <td>1.085</td>\n",
       "    </tr>\n",
       "    <tr>\n",
       "      <th>3</th>\n",
       "      <td>TD_1</td>\n",
       "      <td>0.030</td>\n",
       "    </tr>\n",
       "    <tr>\n",
       "      <th>4</th>\n",
       "      <td>ITT_2</td>\n",
       "      <td>1.616</td>\n",
       "    </tr>\n",
       "    <tr>\n",
       "      <th>5</th>\n",
       "      <td>TTR_2</td>\n",
       "      <td>1.121</td>\n",
       "    </tr>\n",
       "    <tr>\n",
       "      <th>6</th>\n",
       "      <td>LC_2</td>\n",
       "      <td>1.559</td>\n",
       "    </tr>\n",
       "    <tr>\n",
       "      <th>7</th>\n",
       "      <td>TD_2</td>\n",
       "      <td>0.085</td>\n",
       "    </tr>\n",
       "  </tbody>\n",
       "</table>\n",
       "</div>"
      ],
      "text/plain": [
       "  Features  VIF Factor\n",
       "0    ITT_1       2.245\n",
       "1    TTR_1       1.151\n",
       "2     LC_1       1.085\n",
       "3     TD_1       0.030\n",
       "4    ITT_2       1.616\n",
       "5    TTR_2       1.121\n",
       "6     LC_2       1.559\n",
       "7     TD_2       0.085"
      ]
     },
     "execution_count": 7,
     "metadata": {},
     "output_type": "execute_result"
    }
   ],
   "source": [
    "from statsmodels.stats.outliers_influence import variance_inflation_factor\n",
    "X = df[['ITT_1', 'TTR_1', 'LC_1',\n",
    "       'TD_1', 'ITT_2', 'TTR_2', 'LC_2', 'TD_2']]\n",
    "vif = pd.DataFrame()\n",
    "vif[\"Features\"] = X.columns\n",
    "vif[\"VIF Factor\"] = [variance_inflation_factor(X.values, i) for i in range(X.shape[1])]\n",
    "vif.round(3)"
   ]
  },
  {
   "cell_type": "markdown",
   "id": "cognitive-frederick",
   "metadata": {},
   "source": [
    "The variance inflation factors (VIF) for considered attributes are reported in the above table. Since the value of VIF is less than 5, the effect of multicollinearity on the parameter estimates can be ruled out. "
   ]
  },
  {
   "cell_type": "markdown",
   "id": "sitting-barrel",
   "metadata": {},
   "source": [
    "# Model"
   ]
  },
  {
   "cell_type": "markdown",
   "id": "following-colony",
   "metadata": {},
   "source": [
    " The route choice models are estimated using PandasBiogeme version 3.2.6 (https://biogeme.epfl.ch/index.html). "
   ]
  },
  {
   "cell_type": "code",
   "execution_count": 8,
   "id": "relevant-channels",
   "metadata": {},
   "outputs": [
    {
     "name": "stdout",
     "output_type": "stream",
     "text": [
      "biogeme 3.2.6 [2021-08-17]\n",
      "Version entirely written in Python\n",
      "Home page: http://biogeme.epfl.ch\n",
      "Submit questions to https://groups.google.com/d/forum/biogeme\n",
      "Michel Bierlaire, Transport and Mobility Laboratory, Ecole Polytechnique Fédérale de Lausanne (EPFL)\n",
      "\n"
     ]
    }
   ],
   "source": [
    "import biogeme.version as ver\n",
    "print(ver.getText())"
   ]
  },
  {
   "cell_type": "markdown",
   "id": "separated-pilot",
   "metadata": {},
   "source": [
    "We use a multinomial logit models to estimate route choice characteristics of truck drivers. For route choice modeling, a multinomial logit (MNL) model (used as binary logit in this paper) is used. The MNL model is a discrete choice model based on random utility theory which assumes that the individual is perfectly rational and selects the alternative with the highest utility. However, the analyst is assumed to have incomplete information; therefore, uncertainty has to be taken into account. Therefore, the utility is modeled as a random variable so as to reflect the uncertainty. The utility $U_{in}$ that an individual $n$ receives from choosing alternative $i$ from the choice set $C_{n}$ is described by the following equation.\n",
    "    \n",
    "$$\n",
    "U_{in} = V_{in} + \\epsilon_{in}\n",
    "$$  \n",
    "    \n",
    "where $V_{in}$ is the deterministic part of the utility and $\\epsilon_{in}$ is the error term which is independent and identically Gumbel distributed. \n",
    "    \n",
    "The alternative with the highest utility is chosen. The probability that alternative $i$ is chosen by the individual $n$ from choice set $C_{n}$ is given by:\n",
    "    \n",
    "$$\n",
    "P_{in} = Pr (U_{in} \\geq U_{jn}, \\forall j \\in C_{n})\n",
    "$$\n",
    "    \n",
    "$V_{in}$ involves the explanatory variables while distributional assumptions are made on the joint distribution of error terms $\\epsilon_{in} = (\\epsilon_{1n},...,\\epsilon_{jn})$. Therefore, the probability that a given individual $n$ chooses alternative $i$ from the choice set $C_{n}$ is:\n",
    "    \n",
    "$$\n",
    "P_{in} = \\frac{e^{V_{in}}}{\\displaystyle \\sum_{j \\in C_{n}} e^{V_{jn}}} \\label{eq:MNL}\n",
    "$$"
   ]
  },
  {
   "cell_type": "code",
   "execution_count": 9,
   "id": "three-reliance",
   "metadata": {},
   "outputs": [],
   "source": [
    "import biogeme.database as db\n",
    "import biogeme.biogeme as bio\n",
    "import biogeme.models as models\n",
    "import biogeme.messaging as msg\n",
    "from biogeme.expressions import Beta, DefineVariable, bioNormalCdf, \\\n",
    "    Elem, log, bioDraws, PanelLikelihoodTrajectory, MonteCarlo\n",
    "import biogeme.loglikelihood as ll\n",
    "import random\n",
    "\n",
    "database = db.Database('routechoice', df)\n",
    "\n",
    "# The following statement allows you to use the names of the\n",
    "# variable as Python variable.\n",
    "globals().update(database.variables)\n",
    "\n",
    "# Parameters to be estimated\n",
    "\n",
    "B_TD = Beta('B_TD',0,-1000,1000,0 )\n",
    "\n",
    "B_TT = Beta('B_TT',0,-1000,1000,0 )\n",
    "\n",
    "B_TTR = Beta('B_TTR',0,-1000,1000,0 )\n",
    "\n",
    "B_LC = Beta('B_LC',0,-1000,1000,0 )\n",
    "\n",
    "\n",
    "# Utility functions\n",
    "V1 = B_TD * TD_1 +  B_TT * ITT_1 +  B_TTR * TTR_1 +  B_LC * LC_1\n",
    "\n",
    "V2 = B_TD * TD_2 +  B_TT * ITT_2 +  B_TTR * TTR_2 +  B_LC * LC_2\n",
    "\n",
    "# Associate the utlitiy function with the numbering of alternatives\n",
    "\n",
    "V = {1: V1, 2: V2}\n",
    "\n",
    "# Availability of the alternative\n",
    "\n",
    "av = {1: PATH1_AV,  2: PATH2_AV}\n",
    "\n",
    "# Definition of the model. This is the contribution of each\n",
    "# observation to the log likelihood function.\n",
    "logprob = models.loglogit(V, av, PATH_CHOICE)\n",
    "\n",
    "# Create the Biogeme object\n",
    "biogeme = bio.BIOGEME(database, logprob)\n",
    "biogeme.modelName = '01logit'\n",
    "\n",
    "# # Calculate the null log likelihood for reporting.\n",
    "# biogeme.calculateNullLoglikelihood(av)\n",
    "\n",
    "# Estimate the parameters\n",
    "results = biogeme.estimate()"
   ]
  },
  {
   "cell_type": "markdown",
   "id": "endangered-archive",
   "metadata": {},
   "source": [
    "After estimating the model, we present general statistics. "
   ]
  },
  {
   "cell_type": "code",
   "execution_count": 10,
   "id": "color-recall",
   "metadata": {},
   "outputs": [
    {
     "data": {
      "text/html": [
       "<div>\n",
       "<style scoped>\n",
       "    .dataframe tbody tr th:only-of-type {\n",
       "        vertical-align: middle;\n",
       "    }\n",
       "\n",
       "    .dataframe tbody tr th {\n",
       "        vertical-align: top;\n",
       "    }\n",
       "\n",
       "    .dataframe thead th {\n",
       "        text-align: right;\n",
       "    }\n",
       "</style>\n",
       "<table border=\"1\" class=\"dataframe\">\n",
       "  <thead>\n",
       "    <tr style=\"text-align: right;\">\n",
       "      <th></th>\n",
       "      <th>Values</th>\n",
       "    </tr>\n",
       "  </thead>\n",
       "  <tbody>\n",
       "    <tr>\n",
       "      <th>Number of estimated parameters</th>\n",
       "      <td>4.000</td>\n",
       "    </tr>\n",
       "    <tr>\n",
       "      <th>Sample size</th>\n",
       "      <td>1671.000</td>\n",
       "    </tr>\n",
       "    <tr>\n",
       "      <th>Excluded observations</th>\n",
       "      <td>0.000</td>\n",
       "    </tr>\n",
       "    <tr>\n",
       "      <th>Init log likelihood</th>\n",
       "      <td>-1158.249</td>\n",
       "    </tr>\n",
       "    <tr>\n",
       "      <th>Final log likelihood</th>\n",
       "      <td>-867.758</td>\n",
       "    </tr>\n",
       "    <tr>\n",
       "      <th>Likelihood ratio test for the init. model</th>\n",
       "      <td>580.981</td>\n",
       "    </tr>\n",
       "    <tr>\n",
       "      <th>Rho-square for the init. model</th>\n",
       "      <td>0.251</td>\n",
       "    </tr>\n",
       "    <tr>\n",
       "      <th>Rho-square-bar for the init. model</th>\n",
       "      <td>0.247</td>\n",
       "    </tr>\n",
       "    <tr>\n",
       "      <th>Akaike Information Criterion</th>\n",
       "      <td>1743.517</td>\n",
       "    </tr>\n",
       "    <tr>\n",
       "      <th>Bayesian Information Criterion</th>\n",
       "      <td>1765.201</td>\n",
       "    </tr>\n",
       "    <tr>\n",
       "      <th>Final gradient norm</th>\n",
       "      <td>0.007</td>\n",
       "    </tr>\n",
       "    <tr>\n",
       "      <th>Nbr of threads</th>\n",
       "      <td>4.000</td>\n",
       "    </tr>\n",
       "  </tbody>\n",
       "</table>\n",
       "</div>"
      ],
      "text/plain": [
       "                                             Values\n",
       "Number of estimated parameters                4.000\n",
       "Sample size                                1671.000\n",
       "Excluded observations                         0.000\n",
       "Init log likelihood                       -1158.249\n",
       "Final log likelihood                       -867.758\n",
       "Likelihood ratio test for the init. model   580.981\n",
       "Rho-square for the init. model                0.251\n",
       "Rho-square-bar for the init. model            0.247\n",
       "Akaike Information Criterion               1743.517\n",
       "Bayesian Information Criterion             1765.201\n",
       "Final gradient norm                           0.007\n",
       "Nbr of threads                                4.000"
      ]
     },
     "execution_count": 10,
     "metadata": {},
     "output_type": "execute_result"
    }
   ],
   "source": [
    "df_results_statistics = pd.DataFrame(results.getGeneralStatistics()).T\n",
    "df_results_statistics = df_results_statistics.drop([1], axis=1)\n",
    "df_results_statistics.columns= ['Values']\n",
    "df_results_statistics = df_results_statistics.astype('float')\n",
    "df_results_statistics.round(3)"
   ]
  },
  {
   "cell_type": "markdown",
   "id": "dried-pound",
   "metadata": {},
   "source": [
    "Now, we print estiamted parameters."
   ]
  },
  {
   "cell_type": "code",
   "execution_count": 11,
   "id": "reliable-advancement",
   "metadata": {},
   "outputs": [
    {
     "data": {
      "text/html": [
       "<div>\n",
       "<style scoped>\n",
       "    .dataframe tbody tr th:only-of-type {\n",
       "        vertical-align: middle;\n",
       "    }\n",
       "\n",
       "    .dataframe tbody tr th {\n",
       "        vertical-align: top;\n",
       "    }\n",
       "\n",
       "    .dataframe thead th {\n",
       "        text-align: right;\n",
       "    }\n",
       "</style>\n",
       "<table border=\"1\" class=\"dataframe\">\n",
       "  <thead>\n",
       "    <tr style=\"text-align: right;\">\n",
       "      <th></th>\n",
       "      <th>Value</th>\n",
       "      <th>Std err</th>\n",
       "      <th>t-test</th>\n",
       "      <th>p-value</th>\n",
       "      <th>Rob. Std err</th>\n",
       "      <th>Rob. t-test</th>\n",
       "      <th>Rob. p-value</th>\n",
       "    </tr>\n",
       "  </thead>\n",
       "  <tbody>\n",
       "    <tr>\n",
       "      <th>B_LC</th>\n",
       "      <td>-0.229</td>\n",
       "      <td>0.095</td>\n",
       "      <td>-2.399</td>\n",
       "      <td>0.016</td>\n",
       "      <td>0.097</td>\n",
       "      <td>-2.364</td>\n",
       "      <td>0.018</td>\n",
       "    </tr>\n",
       "    <tr>\n",
       "      <th>B_TD</th>\n",
       "      <td>-0.262</td>\n",
       "      <td>0.013</td>\n",
       "      <td>-19.561</td>\n",
       "      <td>0.000</td>\n",
       "      <td>0.013</td>\n",
       "      <td>-19.544</td>\n",
       "      <td>0.000</td>\n",
       "    </tr>\n",
       "    <tr>\n",
       "      <th>B_TT</th>\n",
       "      <td>-0.087</td>\n",
       "      <td>0.013</td>\n",
       "      <td>-6.582</td>\n",
       "      <td>0.000</td>\n",
       "      <td>0.014</td>\n",
       "      <td>-6.390</td>\n",
       "      <td>0.000</td>\n",
       "    </tr>\n",
       "    <tr>\n",
       "      <th>B_TTR</th>\n",
       "      <td>-0.006</td>\n",
       "      <td>0.006</td>\n",
       "      <td>-0.979</td>\n",
       "      <td>0.328</td>\n",
       "      <td>0.005</td>\n",
       "      <td>-1.097</td>\n",
       "      <td>0.272</td>\n",
       "    </tr>\n",
       "  </tbody>\n",
       "</table>\n",
       "</div>"
      ],
      "text/plain": [
       "       Value  Std err  t-test  p-value  Rob. Std err  Rob. t-test  \\\n",
       "B_LC  -0.229    0.095  -2.399    0.016         0.097       -2.364   \n",
       "B_TD  -0.262    0.013 -19.561    0.000         0.013      -19.544   \n",
       "B_TT  -0.087    0.013  -6.582    0.000         0.014       -6.390   \n",
       "B_TTR -0.006    0.006  -0.979    0.328         0.005       -1.097   \n",
       "\n",
       "       Rob. p-value  \n",
       "B_LC          0.018  \n",
       "B_TD          0.000  \n",
       "B_TT          0.000  \n",
       "B_TTR         0.272  "
      ]
     },
     "execution_count": 11,
     "metadata": {},
     "output_type": "execute_result"
    }
   ],
   "source": [
    "# Get the results in a pandas table\n",
    "pandasResults = pd.DataFrame(results.getEstimatedParameters())\n",
    "pandasResults.round(3)"
   ]
  },
  {
   "cell_type": "markdown",
   "id": "guilty-storm",
   "metadata": {},
   "source": [
    "The above table presents the estimates of the route choice model. The signs for travel time, travel distance, travel time unreliability, and lane closures are all negative as expected. The estimate of travel time unreliability is found to be insignificant (robust p-value>0.05). The choice data reveal that few truck drivers make the journey between the same origin and destination more than once within a month. Since the notion of travel time unreliability builds upon experiences, the dataset does not have that many truck drivers traveling between the same OD pair more often.  \n",
    "\n",
    "Truck drivers prefer shorter paths in terms of distance and travel time. Further, they prefer a path with less number of lane closures so as to ensure that they are traveling on a less interrupted roadway. "
   ]
  },
  {
   "cell_type": "markdown",
   "id": "united-europe",
   "metadata": {},
   "source": [
    "# Routing efficiency"
   ]
  },
  {
   "cell_type": "markdown",
   "id": "naughty-country",
   "metadata": {},
   "source": [
    "The previous section has reported key attributes which truck drivers consider while making on-trip routing decisions. In this section, we assess the efficiency of those routing decisions from a user-centric perspective. A user-centric decision can be defined as the one where truck drivers arrive at a decision node and choose a path with least instantaneous travel time. "
   ]
  },
  {
   "cell_type": "code",
   "execution_count": 12,
   "id": "pediatric-bristol",
   "metadata": {},
   "outputs": [],
   "source": [
    "def chosen_time(row):\n",
    "    if row['PATH_CHOICE'] == 1:\n",
    "        return row['ITT_1']\n",
    "    else:\n",
    "        return row['ITT_2']\n",
    "\n",
    "def user_efficient (row):\n",
    "    if min(row['ITT_1'], row['ITT_2']) >= row['chosen_time']:\n",
    "        return 1\n",
    "    else:\n",
    "        return 0"
   ]
  },
  {
   "cell_type": "code",
   "execution_count": 53,
   "id": "needed-party",
   "metadata": {},
   "outputs": [],
   "source": [
    "df['chosen_time'] = df.apply(chosen_time, axis=1)\n",
    "df['user_efficiency'] = df.apply(user_efficient, axis=1)\n",
    "\n",
    "df_regular = df[(df.LC_1 == 0) & (df.LC_2 == 0)]\n",
    "\n",
    "df_cong = df.merge(df_regular, how = 'outer' ,indicator=True).loc[lambda x : x['_merge']=='left_only']"
   ]
  },
  {
   "cell_type": "code",
   "execution_count": 98,
   "id": "flexible-advertiser",
   "metadata": {},
   "outputs": [
    {
     "data": {
      "image/png": "[encoded data removed]",
      "text/plain": [
       "<Figure size 750x600 with 1 Axes>"
      ]
     },
     "metadata": {},
     "output_type": "display_data"
    }
   ],
   "source": [
    "fig, ax = plt.subplots(1, figsize = (10,8),dpi=75)\n",
    "ax.bar(range(3), [df['user_efficiency'].value_counts(normalize=True)[1],\n",
    "              df_regular['user_efficiency'].value_counts(normalize=True)[1],\n",
    "              df_cong['user_efficiency'].value_counts(normalize=True)[1]], color ='purple',\n",
    "        width = 0.4)\n",
    "\n",
    "for p in ax.patches:\n",
    "  ax.annotate(str(p.get_height().round(2)), (p.get_x() * 1.005, p.get_height() * 1.005))\n",
    "\n",
    "ax.set_xlabel(\"Conditions\")\n",
    "ax.set_xticks(range(0,3,1))\n",
    "ax.set_xticklabels( ['All data','Regular', 'Lane-closures'], rotation=45 )\n",
    "ax.set_ylabel(\"Proportion of truckers choosing user-centric paths\")\n",
    "plt.title(\"User-centric efficiency\")\n",
    "plt.show()"
   ]
  },
  {
   "cell_type": "markdown",
   "id": "suited-solution",
   "metadata": {},
   "source": [
    "The above plot shows that 62\\% of truck drivers choose the shortest time path. The dataset is further divided into regular conditions (no lane closures on any path) and lane closures on any path. It is observed that truck drivers make more conscious choices when they are informed about the lane closures. "
   ]
  },
  {
   "cell_type": "markdown",
   "id": "convenient-actor",
   "metadata": {},
   "source": [
    "# Conclusions"
   ]
  },
  {
   "cell_type": "markdown",
   "id": "outer-vertex",
   "metadata": {},
   "source": [
    "We present an on-trip route choice model for truck drivers. The case study for truck-dominated motorways between the port of Rotterdam and hinterland in the Netherlands shows that truck drivers value significantly travel time, travel distance and lane closures en-route. Three out of five truck drivers choose the shortest time path, and this proportion increases if they could distinguish easily the time difference between the alternatives. This analysis is useful for truck-dominated motorways where a large share of traffic consists of trucks. Our analysis suggests that the routing efficiency can be improved by utilizing traffic management solutions. We can guide truck drivers effectively at the decision node. Moreover, dynamic road pricing schemes can be utilized to alter the route choices of truck drivers. "
   ]
  },
  {
   "cell_type": "markdown",
   "id": "authentic-control",
   "metadata": {},
   "source": [
    "# References"
   ]
  },
  {
   "cell_type": "markdown",
   "id": "matched-visit",
   "metadata": {},
   "source": [
    "1. Eurostat. Freight transport statistics - modal split. https://ec.europa.eu/eurostat/statistics-explained/index.php?title=Freight_transport_statistics_-_modal_split. Accessed 09/06/2021, 2021.\n",
    "2. TLN. Economische Wegwijzer 2020. https://www.tln.nl/app/uploads/2020/11/TLN_EcoWegwijzer_2020_A4_2P_DEF_RGB_HR.pdf. Accessed 07/01/2021, 2021."
   ]
  }
 ],
 "metadata": {
  "kernelspec": {
   "display_name": "Python 3",
   "language": "python",
   "name": "python3"
  },
  "language_info": {
   "codemirror_mode": {
    "name": "ipython",
    "version": 3
   },
   "file_extension": ".py",
   "mimetype": "text/x-python",
   "name": "python",
   "nbconvert_exporter": "python",
   "pygments_lexer": "ipython3",
   "version": "3.8.5"
  },
  "toc": {
   "base_numbering": 1,
   "nav_menu": {},
   "number_sections": true,
   "sideBar": true,
   "skip_h1_title": false,
   "title_cell": "Table of Contents",
   "title_sidebar": "Contents",
   "toc_cell": false,
   "toc_position": {},
   "toc_section_display": true,
   "toc_window_display": true
  },
  "varInspector": {
   "cols": {
    "lenName": 16,
    "lenType": 16,
    "lenVar": 40
   },
   "kernels_config": {
    "python": {
     "delete_cmd_postfix": "",
     "delete_cmd_prefix": "del ",
     "library": "var_list.py",
     "varRefreshCmd": "print(var_dic_list())"
    },
    "r": {
     "delete_cmd_postfix": ") ",
     "delete_cmd_prefix": "rm(",
     "library": "var_list.r",
     "varRefreshCmd": "cat(var_dic_list()) "
    }
   },
   "types_to_exclude": [
    "module",
    "function",
    "builtin_function_or_method",
    "instance",
    "_Feature"
   ],
   "window_display": false
  }
 },
 "nbformat": 4,
 "nbformat_minor": 5
}
