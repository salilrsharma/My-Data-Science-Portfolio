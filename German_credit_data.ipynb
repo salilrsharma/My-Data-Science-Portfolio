{
 "cells": [
  {
   "cell_type": "markdown",
   "metadata": {
    "id": "15j592mhYqsb"
   },
   "source": [
    "# Introduction\n",
    "\n",
    "A challenge which the banking industry faces on a day-to-day basis is to assess credit risks of applicants while looking at their loan applications. Applicants who are likely to repay loan are termed as good credit risks. Whereas applicants who are not likely to repay their loan amounts are termed as bad credit risks. Therefore, it is vital for banking business to minimize risk by carefully identifying \"bad credit risks\" so that the liabilities of the applicants are not transfered to banks. \n",
    "\n",
    "Artificial intelligence (AI) techniques can drive banking operations to correctly identify bad credit risks. In this notebook, we will use a German credit dataset to build AI models and evaluate their potential to help banking industry. We frame this problem as a supervised classification task with two outcomes: good and bad credit risks. "
   ]
  },
  {
   "cell_type": "markdown",
   "metadata": {
    "id": "HzmHMYfBXXR8"
   },
   "source": [
    "# Explore the German credit data (Statlog)\n",
    "\n",
    "This notebook analyzes credit dataset of Germany (Statlog) to identify good or bad credit risk. The dataset is downloaded from UCI Machine learning repository (https://archive-beta.ics.uci.edu/ml/datasets/144).\n",
    "\n",
    "In this notebook, we use the German dataset that includes 20 attributes and 1 target. \n",
    "\n",
    "1.   **Checking account status:** Status of checking account coded as a categorical variable\n",
    "\n",
    "           A11 :      ... <    0 DM (Little)\n",
    "\t       A12 : 0 <= ... <  200 DM (Moderate)\n",
    "\t       A13 :      ... >= 200 DM / salary assignments for at least 1 year (Rich)\n",
    "           A14 : no checking account (None)\n",
    "\n",
    "2.   **Duration in month:** Coded as a numerical variable\n",
    "\n",
    "3. **Credit history:** Coded as a categorical variable\n",
    "      \n",
    "          A30 : no credits taken/all credits paid back duly (None)\n",
    "          A31 : all credits at this bank paid back duly (Good here)\n",
    "\t      A32 : existing credits paid back duly till now (Good elsewhere)\n",
    "          A33 : delay in paying off in the past (Bad)\n",
    "\t      A34 : critical account/other credits existing (not at this bank) (Critical)\n",
    "\n",
    "4. **Purpose for credit:** Coded as a categorical variable\n",
    "\n",
    "          A40 : car (new) (New car)\n",
    "\t      A41 : car (used) (Old car)\n",
    "\t      A42 : furniture/equipment\n",
    "\t      A43 : radio/television\n",
    "\t      A44 : domestic appliances\n",
    "\t      A45 : repairs\n",
    "\t      A46 : education\n",
    "\t      A47 : (vacation - does not exist?)\n",
    "\t      A48 : retraining\n",
    "\t      A49 : business\n",
    "\t      A410 : others\n",
    "\n",
    "5. **Credit amount:** Credit amount requested which is coded as a numerical variable\n",
    "\n",
    "6. **Savings account/bonds:** Health of the savings account coded as a categorical variable\n",
    "\n",
    "          A61 :          ... <  100 DM (Little)\n",
    "\t      A62 :   100 <= ... <  500 DM (Moderate)\n",
    "\t      A63 :   500 <= ... < 1000 DM (Rich)\n",
    "\t      A64 :          .. >= 1000 DM (Very rich)\n",
    "          A65 :   unknown/ no savings account (None)\n",
    "\n",
    "7. **Present employment since:** Number of years working in the present employemnt coded as a categorical variable\n",
    "\n",
    "          A71 : unemployed\n",
    "\t      A72 :       ... < 1 year ()\n",
    "\t      A73 : 1  <= ... < 4 years () \n",
    "\t      A74 : 4  <= ... < 7 years ()\n",
    "\t      A75 :       .. >= 7 years ()\n",
    "\n",
    "8. **Installment rate in percentage of disposable income:** Rate of installment coded as a numerical variable\n",
    "\n",
    "9. **Personal status and sex:** Background of an applicant coded as a categorical variable\n",
    "\n",
    "        A91 : male   : divorced/separated (divorced-male)\n",
    "\t    A92 : female : divorced/separated/married (divorced-female)\n",
    "        A93 : male   : single (single-male)\n",
    "\t    A94 : male   : married/widowed ()\n",
    "\t    A95 : female : single\n",
    "\n",
    "10. **Other debtors / guarantors:** Availability of other guarantors coded as a categorical variable\n",
    "\n",
    "        A101 : none\n",
    "\t    A102 : co-applicant\n",
    "\t    A103 : guarantor\n",
    "\n",
    "11. **Present residence since:** A numerical variable captures the number of years an applicant is residing at his current residence\n",
    "\n",
    "12. **Property:** Property owned by an applicant\n",
    "\n",
    "        A121 : real estate\n",
    "\t    A122 : if not A121 : building society savings agreement/life insurance\n",
    "        A123 : if not A121/A122 : car or other, not in attribute 6\n",
    "\t    A124 : unknown / no property\n",
    "\n",
    "13. **Age in years:** Coded as a numerical variable\n",
    "\n",
    "14. **Other installment plans:** Details of other installment plans coded as a categorical variable\n",
    "\n",
    "        A141 : bank\n",
    "\t    A142 : stores\n",
    "\t    A143 : none\n",
    "\n",
    "15. **Housing:** Housing type coded as a categorical variable\n",
    "\n",
    "        A151 : rent\n",
    "\t    A152 : own\n",
    "\t    A153 : for free\n",
    "\n",
    "16. **Number of existing credits at this bank:** any other credits at this bank coded as a numerical variable\n",
    "\n",
    "17. **Job:** Type of job being done by an applicant coded as a categorical variable\n",
    "\n",
    "        A171 : unemployed/ unskilled  - non-resident\n",
    "\t    A172 : unskilled - resident\n",
    "\t    A173 : skilled employee / official\n",
    "\t    A174 : management/ self-employed/ highly qualified employee/ officer\n",
    "\n",
    "18. **Number of people being liable to provide maintenance for:** Coded as a numeral\n",
    "\n",
    "19. **Telephone:** Telephonic details coded as a categorical variable\n",
    "\n",
    "        A191 : none\n",
    "\t    A192 : yes, registered under the customers name\n",
    "\n",
    "20. **Foreign worker:** Working status of an applicant coded as a categorical variable\n",
    "\n",
    "        A201 : yes\n",
    "\t    A202 : no\n",
    "\n",
    "21. **Target:** Binary where 1 refers to *good credit* and 2 refers to *bad credit* risk.\n",
    "\n",
    "\n",
    "\n",
    "\n",
    "\n",
    "\n",
    "\n"
   ]
  },
  {
   "cell_type": "markdown",
   "metadata": {
    "id": "AXU1VtMlLl1_"
   },
   "source": [
    "## **Load dataset**"
   ]
  },
  {
   "cell_type": "markdown",
   "metadata": {
    "id": "ae4WH_cSL1wy"
   },
   "source": [
    "Let's start by loading the german credit data as a Pandas DataFrame and viewing the first few rows."
   ]
  },
  {
   "cell_type": "code",
   "execution_count": 1,
   "metadata": {
    "id": "l4kxfPHSEd_j"
   },
   "outputs": [],
   "source": [
    "import pandas as pd\n",
    "import warnings\n",
    "warnings.filterwarnings(\"ignore\")\n",
    "df = pd.read_csv('german_credit_data.csv', sep = ' ', header= None)\n",
    "#rename columns\n",
    "df.columns = ['ChkAccountStatus', 'Duration', 'CreditHistory', 'Purpose', 'CreditAmt','SavingsAcc',\n",
    "              'Employment','InstallmentRate','PersonalStatus','Guarantors','Residence','Property',\n",
    "              'Age', 'InstallmentPlans','Housing','ExistingCredits','Job','PeopleforLiability',\n",
    "              'Telephone','ForeignWorker','Target']\n",
    "\n",
    "#rename unique values of categorical columns\n",
    "df['ForeignWorker'].replace(to_replace=sorted(df['ForeignWorker'].unique()),\n",
    "           value= ['Migrant', 'Not a migrant'],\n",
    "           inplace=True)\n",
    "df['ChkAccountStatus'].replace(to_replace=sorted(df['ChkAccountStatus'].unique()),\n",
    "           value= ['Little', 'Moderate', 'Rich', 'None'],\n",
    "           inplace=True)\n",
    "df['CreditHistory'].replace(to_replace=sorted(df['CreditHistory'].unique()),\n",
    "           value= [ 'None', 'Good here','Good elsewhere', 'Bad', 'Critical'],\n",
    "           inplace=True)\n",
    "df['Purpose'].replace(to_replace=sorted(df['Purpose'].unique()),\n",
    "           value= ['New car', 'Old car', 'Others', 'Furniture', 'Radio/TV',\n",
    "                  'Home appliances','Repairs', 'Education',\n",
    "                  'Retraining', 'Business'],\n",
    "           inplace=True)\n",
    "df['SavingsAcc'].replace(to_replace=sorted(df['SavingsAcc'].unique()),\n",
    "           value= ['Little', 'Moderate', 'Rich', 'Very rich', 'None'],\n",
    "           inplace=True)\n",
    "df['Employment'].replace(to_replace=sorted(df['Employment'].unique()),\n",
    "           value= ['Unemployed', '<1 year', '1-4 years', '4-7 years', '>7 years'],\n",
    "           inplace=True)\n",
    "df['PersonalStatus'].replace(to_replace=sorted(df['PersonalStatus'].unique()),\n",
    "           value= ['Divorced-M', 'Divorced-F', 'Single-M', 'Married-M'],\n",
    "           inplace=True)\n",
    "df['Guarantors'].replace(to_replace=sorted(df['Guarantors'].unique()),\n",
    "           value= ['None', 'Co-applicant', 'Guarrantor'],\n",
    "           inplace=True)\n",
    "df['InstallmentPlans'].replace(to_replace=sorted(df['InstallmentPlans'].unique()),\n",
    "           value= ['Bank', 'Stores', 'None'],\n",
    "           inplace=True)\n",
    "df['Housing'].replace(to_replace=sorted(df['Housing'].unique()),\n",
    "           value= ['Rent', 'Own', 'Free'],\n",
    "           inplace=True)\n",
    "df['Job'].replace(to_replace=sorted(df['Job'].unique()),\n",
    "           value= ['Unskilled-non res', 'Unskilled-res', 'Skilled', 'Highly skilled'],\n",
    "           inplace=True)\n",
    "df['Telephone'].replace(to_replace=sorted(df['Telephone'].unique()),\n",
    "           value= ['None', 'Yes'],\n",
    "           inplace=True)\n",
    "df['Property'].replace(to_replace=sorted(df['Property'].unique()),\n",
    "           value= ['Real estate', 'Building agg', 'Car', 'None'],\n",
    "           inplace=True)"
   ]
  },
  {
   "cell_type": "markdown",
   "metadata": {
    "id": "XEdmbyAhLuT2"
   },
   "source": [
    "Visualize first 10 rows of the dataset"
   ]
  },
  {
   "cell_type": "code",
   "execution_count": 2,
   "metadata": {
    "colab": {
     "base_uri": "https://localhost:8080/",
     "height": 379
    },
    "id": "jC7-Zx4xElqm",
    "outputId": "2d88f5d8-39c7-4a26-9bde-e7ed8abb5524"
   },
   "outputs": [
    {
     "data": {
      "text/html": [
       "<div>\n",
       "<style scoped>\n",
       "    .dataframe tbody tr th:only-of-type {\n",
       "        vertical-align: middle;\n",
       "    }\n",
       "\n",
       "    .dataframe tbody tr th {\n",
       "        vertical-align: top;\n",
       "    }\n",
       "\n",
       "    .dataframe thead th {\n",
       "        text-align: right;\n",
       "    }\n",
       "</style>\n",
       "<table border=\"1\" class=\"dataframe\">\n",
       "  <thead>\n",
       "    <tr style=\"text-align: right;\">\n",
       "      <th></th>\n",
       "      <th>ChkAccountStatus</th>\n",
       "      <th>Duration</th>\n",
       "      <th>CreditHistory</th>\n",
       "      <th>Purpose</th>\n",
       "      <th>CreditAmt</th>\n",
       "      <th>SavingsAcc</th>\n",
       "      <th>Employment</th>\n",
       "      <th>InstallmentRate</th>\n",
       "      <th>PersonalStatus</th>\n",
       "      <th>Guarantors</th>\n",
       "      <th>...</th>\n",
       "      <th>Property</th>\n",
       "      <th>Age</th>\n",
       "      <th>InstallmentPlans</th>\n",
       "      <th>Housing</th>\n",
       "      <th>ExistingCredits</th>\n",
       "      <th>Job</th>\n",
       "      <th>PeopleforLiability</th>\n",
       "      <th>Telephone</th>\n",
       "      <th>ForeignWorker</th>\n",
       "      <th>Target</th>\n",
       "    </tr>\n",
       "  </thead>\n",
       "  <tbody>\n",
       "    <tr>\n",
       "      <th>0</th>\n",
       "      <td>Little</td>\n",
       "      <td>6</td>\n",
       "      <td>Critical</td>\n",
       "      <td>Radio/TV</td>\n",
       "      <td>1169</td>\n",
       "      <td>None</td>\n",
       "      <td>&gt;7 years</td>\n",
       "      <td>4</td>\n",
       "      <td>Single-M</td>\n",
       "      <td>None</td>\n",
       "      <td>...</td>\n",
       "      <td>Real estate</td>\n",
       "      <td>67</td>\n",
       "      <td>None</td>\n",
       "      <td>Own</td>\n",
       "      <td>2</td>\n",
       "      <td>Skilled</td>\n",
       "      <td>1</td>\n",
       "      <td>Yes</td>\n",
       "      <td>Migrant</td>\n",
       "      <td>1</td>\n",
       "    </tr>\n",
       "    <tr>\n",
       "      <th>1</th>\n",
       "      <td>Moderate</td>\n",
       "      <td>48</td>\n",
       "      <td>Good elsewhere</td>\n",
       "      <td>Radio/TV</td>\n",
       "      <td>5951</td>\n",
       "      <td>Little</td>\n",
       "      <td>1-4 years</td>\n",
       "      <td>2</td>\n",
       "      <td>Divorced-F</td>\n",
       "      <td>None</td>\n",
       "      <td>...</td>\n",
       "      <td>Real estate</td>\n",
       "      <td>22</td>\n",
       "      <td>None</td>\n",
       "      <td>Own</td>\n",
       "      <td>1</td>\n",
       "      <td>Skilled</td>\n",
       "      <td>1</td>\n",
       "      <td>None</td>\n",
       "      <td>Migrant</td>\n",
       "      <td>2</td>\n",
       "    </tr>\n",
       "    <tr>\n",
       "      <th>2</th>\n",
       "      <td>None</td>\n",
       "      <td>12</td>\n",
       "      <td>Critical</td>\n",
       "      <td>Education</td>\n",
       "      <td>2096</td>\n",
       "      <td>Little</td>\n",
       "      <td>4-7 years</td>\n",
       "      <td>2</td>\n",
       "      <td>Single-M</td>\n",
       "      <td>None</td>\n",
       "      <td>...</td>\n",
       "      <td>Real estate</td>\n",
       "      <td>49</td>\n",
       "      <td>None</td>\n",
       "      <td>Own</td>\n",
       "      <td>1</td>\n",
       "      <td>Unskilled-res</td>\n",
       "      <td>2</td>\n",
       "      <td>None</td>\n",
       "      <td>Migrant</td>\n",
       "      <td>1</td>\n",
       "    </tr>\n",
       "    <tr>\n",
       "      <th>3</th>\n",
       "      <td>Little</td>\n",
       "      <td>42</td>\n",
       "      <td>Good elsewhere</td>\n",
       "      <td>Furniture</td>\n",
       "      <td>7882</td>\n",
       "      <td>Little</td>\n",
       "      <td>4-7 years</td>\n",
       "      <td>2</td>\n",
       "      <td>Single-M</td>\n",
       "      <td>Guarrantor</td>\n",
       "      <td>...</td>\n",
       "      <td>Building agg</td>\n",
       "      <td>45</td>\n",
       "      <td>None</td>\n",
       "      <td>Free</td>\n",
       "      <td>1</td>\n",
       "      <td>Skilled</td>\n",
       "      <td>2</td>\n",
       "      <td>None</td>\n",
       "      <td>Migrant</td>\n",
       "      <td>1</td>\n",
       "    </tr>\n",
       "    <tr>\n",
       "      <th>4</th>\n",
       "      <td>Little</td>\n",
       "      <td>24</td>\n",
       "      <td>Bad</td>\n",
       "      <td>New car</td>\n",
       "      <td>4870</td>\n",
       "      <td>Little</td>\n",
       "      <td>1-4 years</td>\n",
       "      <td>3</td>\n",
       "      <td>Single-M</td>\n",
       "      <td>None</td>\n",
       "      <td>...</td>\n",
       "      <td>None</td>\n",
       "      <td>53</td>\n",
       "      <td>None</td>\n",
       "      <td>Free</td>\n",
       "      <td>2</td>\n",
       "      <td>Skilled</td>\n",
       "      <td>2</td>\n",
       "      <td>None</td>\n",
       "      <td>Migrant</td>\n",
       "      <td>2</td>\n",
       "    </tr>\n",
       "    <tr>\n",
       "      <th>5</th>\n",
       "      <td>None</td>\n",
       "      <td>36</td>\n",
       "      <td>Good elsewhere</td>\n",
       "      <td>Education</td>\n",
       "      <td>9055</td>\n",
       "      <td>None</td>\n",
       "      <td>1-4 years</td>\n",
       "      <td>2</td>\n",
       "      <td>Single-M</td>\n",
       "      <td>None</td>\n",
       "      <td>...</td>\n",
       "      <td>None</td>\n",
       "      <td>35</td>\n",
       "      <td>None</td>\n",
       "      <td>Free</td>\n",
       "      <td>1</td>\n",
       "      <td>Unskilled-res</td>\n",
       "      <td>2</td>\n",
       "      <td>Yes</td>\n",
       "      <td>Migrant</td>\n",
       "      <td>1</td>\n",
       "    </tr>\n",
       "    <tr>\n",
       "      <th>6</th>\n",
       "      <td>None</td>\n",
       "      <td>24</td>\n",
       "      <td>Good elsewhere</td>\n",
       "      <td>Furniture</td>\n",
       "      <td>2835</td>\n",
       "      <td>Rich</td>\n",
       "      <td>&gt;7 years</td>\n",
       "      <td>3</td>\n",
       "      <td>Single-M</td>\n",
       "      <td>None</td>\n",
       "      <td>...</td>\n",
       "      <td>Building agg</td>\n",
       "      <td>53</td>\n",
       "      <td>None</td>\n",
       "      <td>Own</td>\n",
       "      <td>1</td>\n",
       "      <td>Skilled</td>\n",
       "      <td>1</td>\n",
       "      <td>None</td>\n",
       "      <td>Migrant</td>\n",
       "      <td>1</td>\n",
       "    </tr>\n",
       "    <tr>\n",
       "      <th>7</th>\n",
       "      <td>Moderate</td>\n",
       "      <td>36</td>\n",
       "      <td>Good elsewhere</td>\n",
       "      <td>Old car</td>\n",
       "      <td>6948</td>\n",
       "      <td>Little</td>\n",
       "      <td>1-4 years</td>\n",
       "      <td>2</td>\n",
       "      <td>Single-M</td>\n",
       "      <td>None</td>\n",
       "      <td>...</td>\n",
       "      <td>Car</td>\n",
       "      <td>35</td>\n",
       "      <td>None</td>\n",
       "      <td>Rent</td>\n",
       "      <td>1</td>\n",
       "      <td>Highly skilled</td>\n",
       "      <td>1</td>\n",
       "      <td>Yes</td>\n",
       "      <td>Migrant</td>\n",
       "      <td>1</td>\n",
       "    </tr>\n",
       "    <tr>\n",
       "      <th>8</th>\n",
       "      <td>None</td>\n",
       "      <td>12</td>\n",
       "      <td>Good elsewhere</td>\n",
       "      <td>Radio/TV</td>\n",
       "      <td>3059</td>\n",
       "      <td>Very rich</td>\n",
       "      <td>4-7 years</td>\n",
       "      <td>2</td>\n",
       "      <td>Divorced-M</td>\n",
       "      <td>None</td>\n",
       "      <td>...</td>\n",
       "      <td>Real estate</td>\n",
       "      <td>61</td>\n",
       "      <td>None</td>\n",
       "      <td>Own</td>\n",
       "      <td>1</td>\n",
       "      <td>Unskilled-res</td>\n",
       "      <td>1</td>\n",
       "      <td>None</td>\n",
       "      <td>Migrant</td>\n",
       "      <td>1</td>\n",
       "    </tr>\n",
       "    <tr>\n",
       "      <th>9</th>\n",
       "      <td>Moderate</td>\n",
       "      <td>30</td>\n",
       "      <td>Critical</td>\n",
       "      <td>New car</td>\n",
       "      <td>5234</td>\n",
       "      <td>Little</td>\n",
       "      <td>Unemployed</td>\n",
       "      <td>4</td>\n",
       "      <td>Married-M</td>\n",
       "      <td>None</td>\n",
       "      <td>...</td>\n",
       "      <td>Car</td>\n",
       "      <td>28</td>\n",
       "      <td>None</td>\n",
       "      <td>Own</td>\n",
       "      <td>2</td>\n",
       "      <td>Highly skilled</td>\n",
       "      <td>1</td>\n",
       "      <td>None</td>\n",
       "      <td>Migrant</td>\n",
       "      <td>2</td>\n",
       "    </tr>\n",
       "  </tbody>\n",
       "</table>\n",
       "<p>10 rows × 21 columns</p>\n",
       "</div>"
      ],
      "text/plain": [
       "  ChkAccountStatus  Duration   CreditHistory    Purpose  CreditAmt SavingsAcc  \\\n",
       "0           Little         6        Critical   Radio/TV       1169       None   \n",
       "1         Moderate        48  Good elsewhere   Radio/TV       5951     Little   \n",
       "2             None        12        Critical  Education       2096     Little   \n",
       "3           Little        42  Good elsewhere  Furniture       7882     Little   \n",
       "4           Little        24             Bad    New car       4870     Little   \n",
       "5             None        36  Good elsewhere  Education       9055       None   \n",
       "6             None        24  Good elsewhere  Furniture       2835       Rich   \n",
       "7         Moderate        36  Good elsewhere    Old car       6948     Little   \n",
       "8             None        12  Good elsewhere   Radio/TV       3059  Very rich   \n",
       "9         Moderate        30        Critical    New car       5234     Little   \n",
       "\n",
       "   Employment  InstallmentRate PersonalStatus  Guarantors  ...      Property  \\\n",
       "0    >7 years                4       Single-M        None  ...   Real estate   \n",
       "1   1-4 years                2     Divorced-F        None  ...   Real estate   \n",
       "2   4-7 years                2       Single-M        None  ...   Real estate   \n",
       "3   4-7 years                2       Single-M  Guarrantor  ...  Building agg   \n",
       "4   1-4 years                3       Single-M        None  ...          None   \n",
       "5   1-4 years                2       Single-M        None  ...          None   \n",
       "6    >7 years                3       Single-M        None  ...  Building agg   \n",
       "7   1-4 years                2       Single-M        None  ...           Car   \n",
       "8   4-7 years                2     Divorced-M        None  ...   Real estate   \n",
       "9  Unemployed                4      Married-M        None  ...           Car   \n",
       "\n",
       "  Age  InstallmentPlans Housing ExistingCredits             Job  \\\n",
       "0  67              None     Own               2         Skilled   \n",
       "1  22              None     Own               1         Skilled   \n",
       "2  49              None     Own               1   Unskilled-res   \n",
       "3  45              None    Free               1         Skilled   \n",
       "4  53              None    Free               2         Skilled   \n",
       "5  35              None    Free               1   Unskilled-res   \n",
       "6  53              None     Own               1         Skilled   \n",
       "7  35              None    Rent               1  Highly skilled   \n",
       "8  61              None     Own               1   Unskilled-res   \n",
       "9  28              None     Own               2  Highly skilled   \n",
       "\n",
       "  PeopleforLiability  Telephone ForeignWorker Target  \n",
       "0                  1        Yes       Migrant      1  \n",
       "1                  1       None       Migrant      2  \n",
       "2                  2       None       Migrant      1  \n",
       "3                  2       None       Migrant      1  \n",
       "4                  2       None       Migrant      2  \n",
       "5                  2        Yes       Migrant      1  \n",
       "6                  1       None       Migrant      1  \n",
       "7                  1        Yes       Migrant      1  \n",
       "8                  1       None       Migrant      1  \n",
       "9                  1       None       Migrant      2  \n",
       "\n",
       "[10 rows x 21 columns]"
      ]
     },
     "execution_count": 2,
     "metadata": {},
     "output_type": "execute_result"
    }
   ],
   "source": [
    "df.head(10)"
   ]
  },
  {
   "cell_type": "markdown",
   "metadata": {},
   "source": [
    "Now that we know what the features and labels in the data represent, let's explore the dataset. First, let's see if there are any missing (null) values."
   ]
  },
  {
   "cell_type": "code",
   "execution_count": 3,
   "metadata": {},
   "outputs": [
    {
     "data": {
      "text/plain": [
       "ChkAccountStatus      0\n",
       "Duration              0\n",
       "CreditHistory         0\n",
       "Purpose               0\n",
       "CreditAmt             0\n",
       "SavingsAcc            0\n",
       "Employment            0\n",
       "InstallmentRate       0\n",
       "PersonalStatus        0\n",
       "Guarantors            0\n",
       "Residence             0\n",
       "Property              0\n",
       "Age                   0\n",
       "InstallmentPlans      0\n",
       "Housing               0\n",
       "ExistingCredits       0\n",
       "Job                   0\n",
       "PeopleforLiability    0\n",
       "Telephone             0\n",
       "ForeignWorker         0\n",
       "Target                0\n",
       "dtype: int64"
      ]
     },
     "execution_count": 3,
     "metadata": {},
     "output_type": "execute_result"
    }
   ],
   "source": [
    "df.isnull().sum()"
   ]
  },
  {
   "cell_type": "markdown",
   "metadata": {},
   "source": [
    "We then check for any duplicate rows in the dataset."
   ]
  },
  {
   "cell_type": "code",
   "execution_count": 4,
   "metadata": {},
   "outputs": [
    {
     "data": {
      "text/plain": [
       "0"
      ]
     },
     "execution_count": 4,
     "metadata": {},
     "output_type": "execute_result"
    }
   ],
   "source": [
    "df.duplicated().sum()"
   ]
  },
  {
   "cell_type": "markdown",
   "metadata": {},
   "source": [
    "The dataset is complete as there are no missing values and no duplicate rows!"
   ]
  },
  {
   "cell_type": "markdown",
   "metadata": {},
   "source": [
    "## Class distribution"
   ]
  },
  {
   "cell_type": "markdown",
   "metadata": {},
   "source": [
    "We change the original target labels. Now label '1' refers to good credit risk and label '0' refers to bad credit risk."
   ]
  },
  {
   "cell_type": "code",
   "execution_count": 5,
   "metadata": {},
   "outputs": [],
   "source": [
    "df['Target'] = df['Target'].map({1: 1, 2: 0})"
   ]
  },
  {
   "cell_type": "code",
   "execution_count": 6,
   "metadata": {},
   "outputs": [
    {
     "data": {
      "text/plain": [
       "1    700\n",
       "0    300\n",
       "Name: Target, dtype: int64"
      ]
     },
     "execution_count": 6,
     "metadata": {},
     "output_type": "execute_result"
    }
   ],
   "source": [
    "df['Target'].value_counts()"
   ]
  },
  {
   "cell_type": "code",
   "execution_count": 7,
   "metadata": {},
   "outputs": [
    {
     "data": {
      "image/png": "[encoded data removed]",
      "text/plain": [
       "<Figure size 576x396 with 1 Axes>"
      ]
     },
     "metadata": {},
     "output_type": "display_data"
    }
   ],
   "source": [
    "import matplotlib.pyplot as plt\n",
    "plt.style.use(\"seaborn\")\n",
    "ax = df['Target'].value_counts().plot(kind='bar', color='purple')\n",
    "ax.set_xlabel('Target')\n",
    "ax.set_ylabel('Number of instances')\n",
    "ax.set_xticklabels(['Good', 'Bad'])\n",
    "plt.title('Class distribution');"
   ]
  },
  {
   "cell_type": "code",
   "execution_count": 8,
   "metadata": {},
   "outputs": [
    {
     "name": "stdout",
     "output_type": "stream",
     "text": [
      "Imbalance ratio is: 2.33\n"
     ]
    }
   ],
   "source": [
    "#Identify class imbalance ratio\n",
    "imb_ratio = len(df[df['Target'] == 1]) / len(df[df['Target'] == 0])\n",
    "print('Imbalance ratio is:',\"%.2f\" % imb_ratio)"
   ]
  },
  {
   "cell_type": "markdown",
   "metadata": {},
   "source": [
    "## Data processing"
   ]
  },
  {
   "cell_type": "markdown",
   "metadata": {
    "id": "Fwvz1dzNEnBs"
   },
   "source": [
    "Let's divide features into numerical and categorical features."
   ]
  },
  {
   "cell_type": "code",
   "execution_count": 9,
   "metadata": {},
   "outputs": [
    {
     "name": "stdout",
     "output_type": "stream",
     "text": [
      "Numerical features: ['Duration', 'CreditAmt', 'InstallmentRate', 'Residence', 'Age', 'ExistingCredits', 'PeopleforLiability']\n",
      "Categorical features: ['ForeignWorker', 'CreditHistory', 'InstallmentPlans', 'PersonalStatus', 'Telephone', 'Employment', 'Purpose', 'ChkAccountStatus', 'Housing', 'Guarantors', 'SavingsAcc', 'Property', 'Job']\n",
      "Total number of features or attributes: 20\n"
     ]
    }
   ],
   "source": [
    "# Separate features and labels\n",
    "\n",
    "numeric_features = df.describe().columns.tolist()\n",
    "\n",
    "#Drop Target from numerical features\n",
    "\n",
    "numeric_features.pop(-1)\n",
    "\n",
    "print('Numerical features:',numeric_features)\n",
    "\n",
    "#categorical columns \n",
    "categorical_features = list(set(df.columns.tolist()).difference(df.describe().columns.tolist()))\n",
    "\n",
    "print('Categorical features:',categorical_features)\n",
    "\n",
    "df[categorical_features] = df[categorical_features].astype('category')\n",
    "\n",
    "#feature names\n",
    "features = numeric_features + categorical_features\n",
    "\n",
    "print('Total number of features or attributes:', len(features))"
   ]
  },
  {
   "cell_type": "markdown",
   "metadata": {},
   "source": [
    "### Numerical features"
   ]
  },
  {
   "cell_type": "markdown",
   "metadata": {},
   "source": [
    "Now let's compare the numerical feature distributions for each label value."
   ]
  },
  {
   "cell_type": "code",
   "execution_count": 10,
   "metadata": {
    "scrolled": false
   },
   "outputs": [
    {
     "data": {
      "image/png": "[encoded data removed]",
      "text/plain": [
       "<Figure size 1296x864 with 7 Axes>"
      ]
     },
     "metadata": {
      "needs_background": "light"
     },
     "output_type": "display_data"
    }
   ],
   "source": [
    "from matplotlib import pyplot as plt\n",
    "import numpy as np\n",
    "%matplotlib inline\n",
    "figure, axes = plt.subplots(3, 3, figsize=(18,12))\n",
    "plt.subplots_adjust(hspace = 0.5, wspace=0.10)\n",
    "figure.delaxes(axes[-1, -1])\n",
    "figure.delaxes(axes[-1, -2])\n",
    "i=0\n",
    "\n",
    "for col in numeric_features:\n",
    "    a = int(np.floor(i/3))\n",
    "    b = i%3\n",
    "    ax = df.boxplot(column=col, by='Target', ax=axes[a][b],\n",
    "              color=dict(boxes='blue', whiskers='m', medians='k', caps='m'),\n",
    "             showfliers=True, grid=True, rot=0, showmeans = True)\n",
    "    ax.set_xlabel(\"Credit risk\")\n",
    "    ax.set_ylabel(col)\n",
    "    ax.set_xticklabels(['Bad', 'Good'])\n",
    "    i=i+1\n",
    "    plt.title(col)\n",
    "plt.show()"
   ]
  },
  {
   "cell_type": "markdown",
   "metadata": {},
   "source": [
    "By looking at the box plots, we obsereve that \"Duration\", \"Credit Amount\", \"Installment rate\", and \"Age\" seem to be strong predictors!\n",
    "\n",
    "1. **Longer duration** is related with larger risk. One possible explanation for this is the interest rate on the credit. At the end of the period, an applicant would have to pay an amount that includes credit amount and accumulated interest. \n",
    "\n",
    "2. **High credit amount** involves more risk since an applicant is more likely to repay lower sums. \n",
    "\n",
    "3. **High installment rate** seems to be associated with more risk since an applicant than would have low financial freedom to support his day-to-day life.\n",
    "\n",
    "4. **Younger applicants** present more risk than older ones since the latter seem to have more financial security. "
   ]
  },
  {
   "cell_type": "markdown",
   "metadata": {},
   "source": [
    "### Clean outliers"
   ]
  },
  {
   "cell_type": "markdown",
   "metadata": {},
   "source": [
    "Next, we use the Z-score based method to remove outliers from our dataset. Z-score can be computed as $Z = \\frac{X- \\mu}{\\sigma}$. Here, $X$ refers to the data, $\\mu$ refers to mean, and $\\sigma$ refers to the standard deviation. A standard cut-off value for finding outliers are Z-scores of +/-3 or further from zero. \n"
   ]
  },
  {
   "cell_type": "code",
   "execution_count": 11,
   "metadata": {},
   "outputs": [],
   "source": [
    "from scipy import stats\n",
    "df = df[(np.abs(stats.zscore(df[['Duration', 'CreditAmt', 'InstallmentRate', 'Residence', 'Age', \n",
    "                            'ExistingCredits', 'PeopleforLiability']])) < 3).all(axis=1)]"
   ]
  },
  {
   "cell_type": "markdown",
   "metadata": {},
   "source": [
    "Next, we will check correlations."
   ]
  },
  {
   "cell_type": "code",
   "execution_count": 12,
   "metadata": {
    "scrolled": false
   },
   "outputs": [
    {
     "data": {
      "image/png": "[encoded data removed]",
      "text/plain": [
       "<Figure size 720x432 with 2 Axes>"
      ]
     },
     "metadata": {},
     "output_type": "display_data"
    }
   ],
   "source": [
    "import seaborn as sns\n",
    "import matplotlib.pyplot as plt\n",
    "\n",
    "corr=df.corr(method ='pearson').round(2)\n",
    "mask = np.triu(np.ones_like(corr, dtype=bool))\n",
    "cmap = sns.diverging_palette(230, 20, as_cmap=True)\n",
    "\n",
    "sns.set(rc={'figure.figsize':(10,6)})\n",
    "\n",
    "sns.heatmap(corr, mask=mask, cmap=cmap, vmin=-0.3, vmax=1.0, center=0, annot = True, \n",
    "            square=True, linewidths=.5, cbar_kws={\"shrink\": .5});"
   ]
  },
  {
   "cell_type": "markdown",
   "metadata": {},
   "source": [
    "By looking at the the correlations, we obsereve that \"Duration\", \"Credit Amount\", \"Installment rate\", \"Existing Credits\", and \"Age\" seem to be correlated with the target variable. We will drop \"Residence\" and \"People for liability\" since these two features do not add any significant value to the prediction of the target variable. "
   ]
  },
  {
   "cell_type": "code",
   "execution_count": 13,
   "metadata": {},
   "outputs": [
    {
     "name": "stdout",
     "output_type": "stream",
     "text": [
      "Updated number of features: 18\n"
     ]
    }
   ],
   "source": [
    "numeric_features = ['Duration', 'Age', 'CreditAmt', 'InstallmentRate', 'ExistingCredits']\n",
    "features = numeric_features + categorical_features\n",
    "print('Updated number of features:', len(features))"
   ]
  },
  {
   "cell_type": "markdown",
   "metadata": {},
   "source": [
    "### Categorical features"
   ]
  },
  {
   "cell_type": "markdown",
   "metadata": {},
   "source": [
    "Let's analyze how categorical variables affect the credit rate."
   ]
  },
  {
   "cell_type": "code",
   "execution_count": 14,
   "metadata": {},
   "outputs": [
    {
     "data": {
      "image/png": "[encoded data removed]",
      "text/plain": [
       "<Figure size 1080x1440 with 13 Axes>"
      ]
     },
     "metadata": {
      "needs_background": "light"
     },
     "output_type": "display_data"
    }
   ],
   "source": [
    "%matplotlib inline\n",
    "figure, axes = plt.subplots(5, 3, figsize=(15,20))\n",
    "plt.subplots_adjust(hspace = 1.0, wspace=0.75)\n",
    "figure.delaxes(axes[-1, -1])\n",
    "figure.delaxes(axes[-1, -2])\n",
    "i=0\n",
    "\n",
    "for col in categorical_features:\n",
    "    a = int(np.floor(i/3))\n",
    "    b = i%3\n",
    "    sns.histplot(ax = axes[a][b], data = df, y = col , hue = 'Target', stat=\"probability\", \n",
    "                 multiple = 'fill', shrink=0.7)\n",
    "    axes[a][b].legend(['Good', 'Bad'], loc='lower left')\n",
    "    i = i+1\n",
    "plt.show()"
   ]
  },
  {
   "cell_type": "markdown",
   "metadata": {},
   "source": [
    "We observe the following insights by looking at the above plots.\n",
    "\n",
    "1. Applicants who maintain a healthy savings account are more likely to repay their credits. \n",
    "2. Applicant who own a property (car, real estate) are more likely to reapy than who owns nothing.\n",
    "3. Applicants who have a guarrantor are more likely to repay their credits.\n",
    "4. Married/single males are more likely to pay back than divorced males and females.\n",
    "5. Applicant with a good credit history present low risk.\n",
    "6. Applicants who own a house are more likely to repay since it shows their good financial health. \n",
    "7. Applicant who have healthy checking account are more likely to repay. \n",
    "8. Migrant are more likely to present risks than non-migrant workers.\n",
    "9. Applicant who have a telephone are more likely to repay since they seem to have good financial health.\n",
    "10. Applicants with more number of experiences might have good financial security; therefore, they are more likely to repay credits.\n",
    "11. Applicant who take credit for education, new car, and repairs seem to present more risk."
   ]
  },
  {
   "cell_type": "code",
   "execution_count": 15,
   "metadata": {},
   "outputs": [
    {
     "name": "stdout",
     "output_type": "stream",
     "text": [
      "Updated number of features: 18\n"
     ]
    }
   ],
   "source": [
    "print('Updated number of features:', len(features))"
   ]
  },
  {
   "cell_type": "markdown",
   "metadata": {},
   "source": [
    "# Experiments"
   ]
  },
  {
   "cell_type": "markdown",
   "metadata": {},
   "source": [
    "## Split the dataset"
   ]
  },
  {
   "cell_type": "markdown",
   "metadata": {},
   "source": [
    "First, we define features and labels before classifiers are trained. Then, the dataset is split into two: training (80%) and testing (20%). We use the training dataset for model selection and the testing dataset for assessing model performance on an unseen dataset."
   ]
  },
  {
   "cell_type": "code",
   "execution_count": 16,
   "metadata": {},
   "outputs": [
    {
     "name": "stdout",
     "output_type": "stream",
     "text": [
      "Size of the training dataset: 761\n",
      "Size of the testing dataset: 191\n"
     ]
    }
   ],
   "source": [
    "from sklearn.model_selection import train_test_split\n",
    "\n",
    "# Separate features and labels\n",
    "label = 'Target'\n",
    "X, y = df[features], df[label]\n",
    "\n",
    "# a dataframe for testing model fairness\n",
    "A = df[['ChkAccountStatus', 'Purpose', 'Guarantors', 'InstallmentPlans', \n",
    "       'SavingsAcc', 'ForeignWorker', 'CreditHistory', 'Housing', 'PersonalStatus']]\n",
    "\n",
    "# Split that dataset\n",
    "X_train, X_test, y_train, y_test, A_train, A_test = train_test_split(\n",
    "    X, y, A, test_size=0.20, random_state=42, stratify=y)\n",
    "\n",
    "print('Size of the training dataset:', X_train.shape[0])\n",
    "print('Size of the testing dataset:', X_test.shape[0])\n",
    "\n",
    "X_train = X_train.reset_index(drop=True)\n",
    "X_test = X_test.reset_index(drop=True)\n",
    "y_train = y_train.reset_index(drop=True)\n",
    "y_test = y_test.reset_index(drop=True)\n",
    "A_train = A_train.reset_index(drop=True)\n",
    "A_test = A_test.reset_index(drop=True)"
   ]
  },
  {
   "cell_type": "markdown",
   "metadata": {},
   "source": [
    "Now we use cross-validatin technique to compare the performance of several classifiers. In this notebook, we have considered the following 8 classifiers.\n",
    "\n",
    "1. Logistic regression (LR),\n",
    "2. Random forest (RF),\n",
    "3. Weighted Logistic regression (LR-W),\n",
    "4. Weighted random forest (RF-W),\n",
    "5. Balanced random forest classifier (BRF),\n",
    "6. Easy Ensemble Classifier (EEC),\n",
    "7. RUSBoost Classifier (RBC), and\n",
    "8. Balanced Bagging Classifier (BBC)\n",
    "\n",
    "Apart from first two, rests of the classifiers can handle class imbalance.\n"
   ]
  },
  {
   "cell_type": "markdown",
   "metadata": {},
   "source": [
    "We use a pipeline to perform the cross-validation. Our pipeline has several components.\n",
    "\n",
    "1. One-hot encoding for categorical features\n",
    "2. Standard scaler for numerical features\n",
    "3. 10-fold validation\n",
    "\n",
    "We look at balanced accuray and precision to evalaute the performance of classifiers. The balanced accuracy computes an arithmetic mean of class-specific accuracies. Whereas, the precision focuses on how good the classifier is in prediciting good credit risks."
   ]
  },
  {
   "cell_type": "code",
   "execution_count": 17,
   "metadata": {
    "scrolled": false
   },
   "outputs": [
    {
     "name": "stdout",
     "output_type": "stream",
     "text": [
      "Model Accuracy BalAcc Precision\n",
      "LR 0.7424 0.6489 0.7895\n",
      "RF 0.7411 0.6197 0.7697\n",
      "LR_W 0.7293 0.7286 0.8696\n",
      "RF_W 0.7385 0.6044 0.7612\n",
      "BRF 0.6793 0.6948 0.8584\n",
      "EEC 0.7134 0.7270 0.8757\n",
      "RBC 0.6977 0.6875 0.8432\n",
      "BBC 0.6609 0.6603 0.8267\n"
     ]
    }
   ],
   "source": [
    "from sklearn.linear_model import LogisticRegression\n",
    "from sklearn.ensemble import RandomForestClassifier, AdaBoostClassifier\n",
    "from sklearn.compose import ColumnTransformer\n",
    "from sklearn.preprocessing import OneHotEncoder, StandardScaler, LabelEncoder\n",
    "from sklearn.pipeline import Pipeline\n",
    "from sklearn.metrics import confusion_matrix, accuracy_score, recall_score, precision_score, balanced_accuracy_score, plot_confusion_matrix, classification_report, f1_score\n",
    "from imblearn.metrics import geometric_mean_score\n",
    "from imblearn.ensemble import EasyEnsembleClassifier, RUSBoostClassifier, BalancedBaggingClassifier, BalancedRandomForestClassifier\n",
    "from imblearn.over_sampling import RandomOverSampler, SMOTE\n",
    "from imblearn.under_sampling import RandomUnderSampler, TomekLinks\n",
    "from sklearn.model_selection import cross_val_score, StratifiedKFold, cross_validate\n",
    "\n",
    "column_trans = ColumnTransformer(\n",
    "    [('category', OneHotEncoder(), categorical_features),\n",
    "     ('numerical', StandardScaler(), numeric_features)])\n",
    "\n",
    "scoring = {'accuracy','balanced_accuracy','precision'}\n",
    "\n",
    "models = []\n",
    "\n",
    "models.append(('LR', LogisticRegression(random_state=42)))\n",
    "models.append(('RF', RandomForestClassifier(random_state=42)))\n",
    "models.append(('LR_W', LogisticRegression(random_state=42,class_weight=\"balanced\")))\n",
    "models.append(('RF_W', RandomForestClassifier(random_state=42, class_weight = \"balanced\")))\n",
    "models.append(('BRF', BalancedRandomForestClassifier(random_state=42)))\n",
    "models.append(('EEC', EasyEnsembleClassifier(base_estimator=AdaBoostClassifier(random_state=42))))\n",
    "models.append(('RBC', RUSBoostClassifier(random_state=42)))\n",
    "models.append(('BBC', BalancedBaggingClassifier(random_state=42)))\n",
    "\n",
    "results_acc = []\n",
    "results_bal_acc = []\n",
    "results_prec = []\n",
    "\n",
    "names = []\n",
    "print('Model', 'Accuracy', 'BalAcc', 'Precision')\n",
    "for name, model in models:\n",
    "    rf = Pipeline(steps=[('preprocessor', column_trans),\n",
    "                      ('classifier', model)])\n",
    "    kfold = StratifiedKFold(n_splits=10)\n",
    "    cv_results = cross_validate(rf, X_train, y_train, cv=kfold, scoring=scoring)\n",
    "    results_bal_acc.append(cv_results['test_balanced_accuracy'])\n",
    "    results_acc.append(cv_results['test_accuracy'])\n",
    "    results_prec.append(cv_results['test_precision'])\n",
    "    names.append(name)\n",
    "    msg = \"%s %.4f %.4f %.4f\" % (name, cv_results['test_accuracy'].mean(), \n",
    "                                  cv_results['test_balanced_accuracy'].mean(), \n",
    "                                  cv_results['test_precision'].mean())\n",
    "    print(msg)"
   ]
  },
  {
   "cell_type": "code",
   "execution_count": 18,
   "metadata": {},
   "outputs": [
    {
     "data": {
      "image/png": "[encoded data removed]",
      "text/plain": [
       "<Figure size 432x288 with 1 Axes>"
      ]
     },
     "metadata": {
      "needs_background": "light"
     },
     "output_type": "display_data"
    }
   ],
   "source": [
    "x = np.arange(len(names))\n",
    "y1 = np.mean(results_acc, axis=1)\n",
    "y2 = np.mean(results_bal_acc, axis=1)\n",
    "y3 = np.mean(results_prec, axis=1)\n",
    "width = 0.30\n",
    "  \n",
    "# plot data in grouped manner of bar type\n",
    "plt.bar(x-0.3, y1, width, color='red', label='accuracy')\n",
    "plt.bar(x, y2, width, color='purple', label='Balanced accuracy')\n",
    "plt.bar(x+0.3, y3, width, color='grey', label='Precision')\n",
    "plt.xticks([r for r in range(len(names))],names)\n",
    "plt.ylabel('Score')\n",
    "plt.legend(loc='upper left');\n",
    "plt.ylim([0.5,0.95]);"
   ]
  },
  {
   "cell_type": "markdown",
   "metadata": {},
   "source": [
    "This dataset suffers from class imbalance. Therfore, we observe that accuracy can be a misleading metric. Therefore, we use balanced accuracy in this case that tries to incoporate the class-specific accuracies in a single formula. \n",
    "\n",
    "Precision is considered here to evalaute the quality of models so that *bad credit risks* are not transfered as *good ones*. Higher the precision value, higher will be the chances of missclassifying a bad credit risk.\n",
    "\n",
    "Our results suggest that the weighted logistic regression achieves a balanced accuracy of 72.86% and a precision of 86.96%. A comparable performance is achieved by the Easy Ensemble Classifier which shows a balanced accuracy of 72.70% and a precision of 87.57%.\n",
    "\n",
    "We will use these two models and compare their performances on the test dataset."
   ]
  },
  {
   "cell_type": "markdown",
   "metadata": {},
   "source": [
    "# Results"
   ]
  },
  {
   "cell_type": "markdown",
   "metadata": {},
   "source": [
    "## Classification performance"
   ]
  },
  {
   "cell_type": "markdown",
   "metadata": {},
   "source": [
    "Now, we test the performance of both the weighted logistic regression and the Balanced Random Forest Classifier on an unseeen dataset. "
   ]
  },
  {
   "cell_type": "code",
   "execution_count": 19,
   "metadata": {},
   "outputs": [
    {
     "name": "stdout",
     "output_type": "stream",
     "text": [
      "Model Accuracy BalAcc Precision\n",
      "LR_W 0.7173 0.7257 0.8727 \n",
      "EEC 0.7382 0.7512 0.8909 \n"
     ]
    }
   ],
   "source": [
    "column_trans = ColumnTransformer(\n",
    "    [('category', OneHotEncoder(), categorical_features),\n",
    "     ('numerical', StandardScaler(), numeric_features)])\n",
    "\n",
    "scoring = {'accuracy','balanced_accuracy','precision'}\n",
    "\n",
    "models = []\n",
    "\n",
    "models.append(('LR_W', LogisticRegression(random_state=42,class_weight=\"balanced\")))\n",
    "models.append(('EEC', EasyEnsembleClassifier(base_estimator=AdaBoostClassifier(random_state=42))))\n",
    "\n",
    "results_acc = []\n",
    "results_bal_acc = []\n",
    "results_prec = []\n",
    "\n",
    "names = []\n",
    "print('Model', 'Accuracy', 'BalAcc', 'Precision')\n",
    "for name, model in models:\n",
    "    rf = Pipeline(steps=[('preprocessor', column_trans),\n",
    "                      ('classifier', model)])\n",
    "    clf = rf.fit(X_train, y_train)\n",
    "    pred = rf.predict(X_test)\n",
    "    msg = \"%s %.4f %.4f %.4f \" % (name, accuracy_score(y_test, pred), balanced_accuracy_score(y_test, pred), precision_score(y_test, pred))\n",
    "    print(msg)"
   ]
  },
  {
   "cell_type": "markdown",
   "metadata": {},
   "source": [
    "The Easy Ensemble Classifier delivers the best performance on the test dataset with a balanced accuracy of 75.12% and a precision of 89.09%. \n",
    "\n",
    "We can observe the performance of the Easy Ensemble Classifier by looking at the confusion matrix. We can obseve that the model does a fine job by not having a missclassifation rate for bad credit risk. Only 12 out of 55 are missclassified. Furthermore, only 12 instances are wrongly predicted as *good* out of 110 instances that are predicted *good*."
   ]
  },
  {
   "cell_type": "code",
   "execution_count": 20,
   "metadata": {},
   "outputs": [
    {
     "data": {
      "image/png": "[encoded data removed]",
      "text/plain": [
       "<Figure size 432x288 with 2 Axes>"
      ]
     },
     "metadata": {
      "needs_background": "light"
     },
     "output_type": "display_data"
    }
   ],
   "source": [
    "plot_confusion_matrix(clf, X_test, y_test,display_labels=['Bad', 'Good'],\n",
    "                                 cmap=plt.cm.Blues) ;\n",
    "plt.grid(False)"
   ]
  },
  {
   "cell_type": "markdown",
   "metadata": {},
   "source": [
    "## Feature importance"
   ]
  },
  {
   "cell_type": "markdown",
   "metadata": {},
   "source": [
    "Now we will look at the importance of features to predict the target variable. For this purpose, we will use permutation based feature importance."
   ]
  },
  {
   "cell_type": "code",
   "execution_count": 21,
   "metadata": {},
   "outputs": [],
   "source": [
    "from sklearn.inspection import permutation_importance\n",
    "\n",
    "result = permutation_importance(clf, X_test, y_test, n_repeats=10,\n",
    "                                random_state=42, n_jobs=2)\n",
    "sorted_idx = result.importances_mean.argsort()"
   ]
  },
  {
   "cell_type": "code",
   "execution_count": 22,
   "metadata": {},
   "outputs": [
    {
     "data": {
      "image/png": "[encoded data removed]",
      "text/plain": [
       "<Figure size 576x396 with 1 Axes>"
      ]
     },
     "metadata": {
      "needs_background": "light"
     },
     "output_type": "display_data"
    }
   ],
   "source": [
    "fig, ax = plt.subplots(figsize=(8,5.5))\n",
    "ax.boxplot(result.importances[sorted_idx].T,\n",
    "           vert=False, labels=X_test.columns[sorted_idx])\n",
    "ax.set_title(\"Permutation Importances (test set)\")\n",
    "fig.tight_layout()\n",
    "plt.show()"
   ]
  },
  {
   "cell_type": "markdown",
   "metadata": {},
   "source": [
    "If we look at the above plot, we observe that the five most imortant features for classifying/predicting the credit risk rate turn out to be checkng account status, duration of credit, purpose of credit, credit amount requested, and installation plans. "
   ]
  },
  {
   "cell_type": "markdown",
   "metadata": {},
   "source": [
    "## Model fairness"
   ]
  },
  {
   "cell_type": "markdown",
   "metadata": {},
   "source": [
    "Now we will use model fairness tool (fairlearn package) to investigate any disparity asosciated with the model. We will focus on the two most important categorical features: checking account status and purpose of credit. Besides, we also consider two other socio-economic characterstics such as migrant status and personal status. "
   ]
  },
  {
   "cell_type": "code",
   "execution_count": 23,
   "metadata": {},
   "outputs": [],
   "source": [
    "from fairlearn.metrics import MetricFrame\n",
    "from fairlearn.metrics import selection_rate, count\n",
    "from sklearn.metrics import fbeta_score, precision_score"
   ]
  },
  {
   "cell_type": "markdown",
   "metadata": {},
   "source": [
    "### Checking account status"
   ]
  },
  {
   "cell_type": "code",
   "execution_count": 24,
   "metadata": {},
   "outputs": [
    {
     "data": {
      "text/html": [
       "<div>\n",
       "<style scoped>\n",
       "    .dataframe tbody tr th:only-of-type {\n",
       "        vertical-align: middle;\n",
       "    }\n",
       "\n",
       "    .dataframe tbody tr th {\n",
       "        vertical-align: top;\n",
       "    }\n",
       "\n",
       "    .dataframe thead th {\n",
       "        text-align: right;\n",
       "    }\n",
       "</style>\n",
       "<table border=\"1\" class=\"dataframe\">\n",
       "  <thead>\n",
       "    <tr style=\"text-align: right;\">\n",
       "      <th></th>\n",
       "      <th>selection_rate</th>\n",
       "      <th>fbeta_06</th>\n",
       "      <th>precision_score</th>\n",
       "      <th>count</th>\n",
       "    </tr>\n",
       "    <tr>\n",
       "      <th>ChkAccountStatus</th>\n",
       "      <th></th>\n",
       "      <th></th>\n",
       "      <th></th>\n",
       "      <th></th>\n",
       "    </tr>\n",
       "  </thead>\n",
       "  <tbody>\n",
       "    <tr>\n",
       "      <th>Little</th>\n",
       "      <td>0.291667</td>\n",
       "      <td>0.806569</td>\n",
       "      <td>0.928571</td>\n",
       "      <td>48</td>\n",
       "    </tr>\n",
       "    <tr>\n",
       "      <th>Moderate</th>\n",
       "      <td>0.404255</td>\n",
       "      <td>0.712975</td>\n",
       "      <td>0.842105</td>\n",
       "      <td>47</td>\n",
       "    </tr>\n",
       "    <tr>\n",
       "      <th>None</th>\n",
       "      <td>0.870588</td>\n",
       "      <td>0.908656</td>\n",
       "      <td>0.905405</td>\n",
       "      <td>85</td>\n",
       "    </tr>\n",
       "    <tr>\n",
       "      <th>Rich</th>\n",
       "      <td>0.272727</td>\n",
       "      <td>0.435897</td>\n",
       "      <td>0.666667</td>\n",
       "      <td>11</td>\n",
       "    </tr>\n",
       "  </tbody>\n",
       "</table>\n",
       "</div>"
      ],
      "text/plain": [
       "                 selection_rate  fbeta_06 precision_score count\n",
       "ChkAccountStatus                                               \n",
       "Little                 0.291667  0.806569        0.928571    48\n",
       "Moderate               0.404255  0.712975        0.842105    47\n",
       "None                   0.870588  0.908656        0.905405    85\n",
       "Rich                   0.272727  0.435897        0.666667    11"
      ]
     },
     "execution_count": 24,
     "metadata": {},
     "output_type": "execute_result"
    }
   ],
   "source": [
    "import functools\n",
    "fbeta_06 = functools.partial(fbeta_score, beta=0.6)\n",
    "metric_fns = {'selection_rate': selection_rate, 'fbeta_06': fbeta_06, 'precision_score': precision_score, 'count': count}\n",
    "\n",
    "grouped_on_checking_account_status = MetricFrame(metrics=metric_fns,\n",
    "                             y_true=y_test,\n",
    "                             y_pred=pred,\n",
    "                             sensitive_features=pd.Series(A_test['ChkAccountStatus']))\n",
    "\n",
    "grouped_on_checking_account_status.by_group"
   ]
  },
  {
   "cell_type": "markdown",
   "metadata": {},
   "source": [
    "We observe that the model favors middle class people more than the others by looking at the selection rate. Here, selection rate is defined as the fraction of predicted labels matching the *good* outcome. *None* category stands out since count field shows that the dataset has most of the instances for this field. It seems other features are mostly useful for bankers to decide for *None* category. "
   ]
  },
  {
   "cell_type": "markdown",
   "metadata": {},
   "source": [
    "### Purpose"
   ]
  },
  {
   "cell_type": "code",
   "execution_count": 25,
   "metadata": {},
   "outputs": [
    {
     "data": {
      "text/html": [
       "<div>\n",
       "<style scoped>\n",
       "    .dataframe tbody tr th:only-of-type {\n",
       "        vertical-align: middle;\n",
       "    }\n",
       "\n",
       "    .dataframe tbody tr th {\n",
       "        vertical-align: top;\n",
       "    }\n",
       "\n",
       "    .dataframe thead th {\n",
       "        text-align: right;\n",
       "    }\n",
       "</style>\n",
       "<table border=\"1\" class=\"dataframe\">\n",
       "  <thead>\n",
       "    <tr style=\"text-align: right;\">\n",
       "      <th></th>\n",
       "      <th>selection_rate</th>\n",
       "      <th>fbeta_06</th>\n",
       "      <th>precision_score</th>\n",
       "      <th>count</th>\n",
       "    </tr>\n",
       "    <tr>\n",
       "      <th>Purpose</th>\n",
       "      <th></th>\n",
       "      <th></th>\n",
       "      <th></th>\n",
       "      <th></th>\n",
       "    </tr>\n",
       "  </thead>\n",
       "  <tbody>\n",
       "    <tr>\n",
       "      <th>Business</th>\n",
       "      <td>0.45</td>\n",
       "      <td>0.695906</td>\n",
       "      <td>0.777778</td>\n",
       "      <td>20</td>\n",
       "    </tr>\n",
       "    <tr>\n",
       "      <th>Education</th>\n",
       "      <td>0.375</td>\n",
       "      <td>0.85</td>\n",
       "      <td>1</td>\n",
       "      <td>8</td>\n",
       "    </tr>\n",
       "    <tr>\n",
       "      <th>Furniture</th>\n",
       "      <td>0.606061</td>\n",
       "      <td>0.91372</td>\n",
       "      <td>0.95</td>\n",
       "      <td>33</td>\n",
       "    </tr>\n",
       "    <tr>\n",
       "      <th>Home appliances</th>\n",
       "      <td>0</td>\n",
       "      <td>0</td>\n",
       "      <td>0</td>\n",
       "      <td>2</td>\n",
       "    </tr>\n",
       "    <tr>\n",
       "      <th>New car</th>\n",
       "      <td>0.466667</td>\n",
       "      <td>0.778626</td>\n",
       "      <td>0.857143</td>\n",
       "      <td>45</td>\n",
       "    </tr>\n",
       "    <tr>\n",
       "      <th>Old car</th>\n",
       "      <td>0.777778</td>\n",
       "      <td>0.91134</td>\n",
       "      <td>0.928571</td>\n",
       "      <td>18</td>\n",
       "    </tr>\n",
       "    <tr>\n",
       "      <th>Others</th>\n",
       "      <td>0</td>\n",
       "      <td>0</td>\n",
       "      <td>0</td>\n",
       "      <td>3</td>\n",
       "    </tr>\n",
       "    <tr>\n",
       "      <th>Radio/TV</th>\n",
       "      <td>0.701754</td>\n",
       "      <td>0.852436</td>\n",
       "      <td>0.875</td>\n",
       "      <td>57</td>\n",
       "    </tr>\n",
       "    <tr>\n",
       "      <th>Repairs</th>\n",
       "      <td>0.333333</td>\n",
       "      <td>0.790698</td>\n",
       "      <td>1</td>\n",
       "      <td>3</td>\n",
       "    </tr>\n",
       "    <tr>\n",
       "      <th>Retraining</th>\n",
       "      <td>1</td>\n",
       "      <td>1</td>\n",
       "      <td>1</td>\n",
       "      <td>2</td>\n",
       "    </tr>\n",
       "  </tbody>\n",
       "</table>\n",
       "</div>"
      ],
      "text/plain": [
       "                selection_rate  fbeta_06 precision_score count\n",
       "Purpose                                                       \n",
       "Business                  0.45  0.695906        0.777778    20\n",
       "Education                0.375      0.85               1     8\n",
       "Furniture             0.606061   0.91372            0.95    33\n",
       "Home appliances              0         0               0     2\n",
       "New car               0.466667  0.778626        0.857143    45\n",
       "Old car               0.777778   0.91134        0.928571    18\n",
       "Others                       0         0               0     3\n",
       "Radio/TV              0.701754  0.852436           0.875    57\n",
       "Repairs               0.333333  0.790698               1     3\n",
       "Retraining                   1         1               1     2"
      ]
     },
     "execution_count": 25,
     "metadata": {},
     "output_type": "execute_result"
    }
   ],
   "source": [
    "grouped_on_Purpose = MetricFrame(metrics=metric_fns,\n",
    "                             y_true=y_test,\n",
    "                             y_pred=pred,\n",
    "                             sensitive_features=pd.Series(A_test['Purpose']))\n",
    "\n",
    "grouped_on_Purpose.by_group"
   ]
  },
  {
   "cell_type": "markdown",
   "metadata": {},
   "source": [
    "It seems that the selection rate for *repairs* and *education* is quite low, followed by a business setup and buying a new car. The model favors cases for buying an old car and buying radio or TV. This suggests that the model understand risks and large credit amounts involved with education, business and new car; therefore, the approval is not granted. However, an old car or TV or radio costs less; therefore, an applicant would only require less credit amount which he would have more probability to repay.  "
   ]
  },
  {
   "cell_type": "markdown",
   "metadata": {},
   "source": [
    "### Migrant and personal status"
   ]
  },
  {
   "cell_type": "code",
   "execution_count": 26,
   "metadata": {},
   "outputs": [
    {
     "data": {
      "text/html": [
       "<div>\n",
       "<style scoped>\n",
       "    .dataframe tbody tr th:only-of-type {\n",
       "        vertical-align: middle;\n",
       "    }\n",
       "\n",
       "    .dataframe tbody tr th {\n",
       "        vertical-align: top;\n",
       "    }\n",
       "\n",
       "    .dataframe thead th {\n",
       "        text-align: right;\n",
       "    }\n",
       "</style>\n",
       "<table border=\"1\" class=\"dataframe\">\n",
       "  <thead>\n",
       "    <tr style=\"text-align: right;\">\n",
       "      <th></th>\n",
       "      <th></th>\n",
       "      <th>selection_rate</th>\n",
       "      <th>fbeta_06</th>\n",
       "      <th>precision_score</th>\n",
       "      <th>count</th>\n",
       "    </tr>\n",
       "    <tr>\n",
       "      <th>ForeignWorker</th>\n",
       "      <th>PersonalStatus</th>\n",
       "      <th></th>\n",
       "      <th></th>\n",
       "      <th></th>\n",
       "      <th></th>\n",
       "    </tr>\n",
       "  </thead>\n",
       "  <tbody>\n",
       "    <tr>\n",
       "      <th rowspan=\"4\" valign=\"top\">Migrant</th>\n",
       "      <th>Divorced-F</th>\n",
       "      <td>0.580645</td>\n",
       "      <td>0.905632</td>\n",
       "      <td>0.972222</td>\n",
       "      <td>62</td>\n",
       "    </tr>\n",
       "    <tr>\n",
       "      <th>Divorced-M</th>\n",
       "      <td>0.4</td>\n",
       "      <td>0.5</td>\n",
       "      <td>0.5</td>\n",
       "      <td>5</td>\n",
       "    </tr>\n",
       "    <tr>\n",
       "      <th>Married-M</th>\n",
       "      <td>0.5</td>\n",
       "      <td>0.825243</td>\n",
       "      <td>1</td>\n",
       "      <td>20</td>\n",
       "    </tr>\n",
       "    <tr>\n",
       "      <th>Single-M</th>\n",
       "      <td>0.5625</td>\n",
       "      <td>0.784067</td>\n",
       "      <td>0.814815</td>\n",
       "      <td>96</td>\n",
       "    </tr>\n",
       "    <tr>\n",
       "      <th rowspan=\"4\" valign=\"top\">Not a migrant</th>\n",
       "      <th>Divorced-F</th>\n",
       "      <td>1</td>\n",
       "      <td>1</td>\n",
       "      <td>1</td>\n",
       "      <td>2</td>\n",
       "    </tr>\n",
       "    <tr>\n",
       "      <th>Divorced-M</th>\n",
       "      <td>NaN</td>\n",
       "      <td>NaN</td>\n",
       "      <td>NaN</td>\n",
       "      <td>NaN</td>\n",
       "    </tr>\n",
       "    <tr>\n",
       "      <th>Married-M</th>\n",
       "      <td>1</td>\n",
       "      <td>1</td>\n",
       "      <td>1</td>\n",
       "      <td>2</td>\n",
       "    </tr>\n",
       "    <tr>\n",
       "      <th>Single-M</th>\n",
       "      <td>1</td>\n",
       "      <td>1</td>\n",
       "      <td>1</td>\n",
       "      <td>4</td>\n",
       "    </tr>\n",
       "  </tbody>\n",
       "</table>\n",
       "</div>"
      ],
      "text/plain": [
       "                             selection_rate  fbeta_06 precision_score count\n",
       "ForeignWorker PersonalStatus                                               \n",
       "Migrant       Divorced-F           0.580645  0.905632        0.972222    62\n",
       "              Divorced-M                0.4       0.5             0.5     5\n",
       "              Married-M                 0.5  0.825243               1    20\n",
       "              Single-M               0.5625  0.784067        0.814815    96\n",
       "Not a migrant Divorced-F                  1         1               1     2\n",
       "              Divorced-M                NaN       NaN             NaN   NaN\n",
       "              Married-M                   1         1               1     2\n",
       "              Single-M                    1         1               1     4"
      ]
     },
     "execution_count": 26,
     "metadata": {},
     "output_type": "execute_result"
    }
   ],
   "source": [
    "grouped_on_ForeignWorker = MetricFrame(metrics=metric_fns,\n",
    "                             y_true=y_test,\n",
    "                             y_pred=pred,\n",
    "                             sensitive_features=(A_test[['ForeignWorker', 'PersonalStatus']]))\n",
    "\n",
    "grouped_on_ForeignWorker.by_group"
   ]
  },
  {
   "cell_type": "markdown",
   "metadata": {},
   "source": [
    "By looking at the socio and migrant characteristics, the model favors divorced females and single males in the migrant category. Almost, everyone in the non-migrant category is granted approval. This suggests a potential bias with respect to gender and migrant status."
   ]
  },
  {
   "cell_type": "markdown",
   "metadata": {},
   "source": [
    "# Conclusions"
   ]
  },
  {
   "cell_type": "markdown",
   "metadata": {},
   "source": [
    "This notebook has analyzed the German credit dataset to classify and predict credit risk rate using supervised learning techniques. We show that the easy ensemble classifier is able to predict the credit risk rate with a balanced accuracy of 75.12% and a precision of 89.09%. \n",
    "\n",
    "For the prediction purposes, the most important features seem to be checking account status and the duration of requested credit. These two variables capture the financial health of applicants and whether they can be able to repay the requested credit amounts. \n",
    "\n",
    "While this notebook focusses on analyzing the dataset and comparing several models, a natural progression of this work is to improve the current models through tuning hyperparameter and varying decision thresholds. A promising direction can also be to address socio-economic disparity present in the existing models by creating unbiased models."
   ]
  }
 ],
 "metadata": {
  "colab": {
   "collapsed_sections": [],
   "name": "German-credit-data.ipynb",
   "provenance": []
  },
  "kernelspec": {
   "display_name": "Python 3",
   "language": "python",
   "name": "python3"
  },
  "language_info": {
   "codemirror_mode": {
    "name": "ipython",
    "version": 3
   },
   "file_extension": ".py",
   "mimetype": "text/x-python",
   "name": "python",
   "nbconvert_exporter": "python",
   "pygments_lexer": "ipython3",
   "version": "3.6.7"
  }
 },
 "nbformat": 4,
 "nbformat_minor": 1
}
