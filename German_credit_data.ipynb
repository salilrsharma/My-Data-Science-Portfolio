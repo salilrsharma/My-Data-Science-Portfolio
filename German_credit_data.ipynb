{
 "cells": [
  {
   "cell_type": "markdown",
   "metadata": {
    "id": "15j592mhYqsb"
   },
   "source": [
    "# Introduction\n",
    "\n",
    "A challenge which the banking industry faces on a day-to-day basis is to assess credit risks of applicants while looking at their loan applications. Applicants who are likely to repay loan are termed as good credit risks. Whereas applicants who are not likely to repay their loan amounts are termed as bad credit risks. Therefore, it is vital for banking business to minimize risk by carefully identifying \"bad credit risks\" so that the liabilities of the applicants are not transfered to banks. \n",
    "\n",
    "Artificial intelligence (AI) techniques can drive banking operations to correctly identify bad credit risks. In this notebook, we will use a German credit dataset to build AI models and evaluate their potential to help banking industry. "
   ]
  },
  {
   "cell_type": "markdown",
   "metadata": {
    "id": "HzmHMYfBXXR8"
   },
   "source": [
    "# Explore the German credit data (Statlog)\n",
    "\n",
    "This notebook analyzes credit dataset of Germany (Statlog) to identify good or bad credit risk. The dataset is downloaded from UCI Machine learning repository (https://archive-beta.ics.uci.edu/ml/datasets/144).\n",
    "\n",
    "In this notebook, we use the German dataset that includes 20 attributes and 1 target. \n",
    "\n",
    "1.   **Checking account status:** Status of checking account coded as a categorical variable\n",
    "\n",
    "           A11 :      ... <    0 DM\n",
    "\t       A12 : 0 <= ... <  200 DM\n",
    "\t       A13 :      ... >= 200 DM / salary assignments for at least 1 year\n",
    "           A14 : no checking account\n",
    "\n",
    "2.   **Duration in month:** Coded as a numerical variable\n",
    "\n",
    "3. **Credit history:** Coded as a categorical variable\n",
    "      \n",
    "          A30 : no credits taken/all credits paid back duly\n",
    "          A31 : all credits at this bank paid back duly\n",
    "\t      A32 : existing credits paid back duly till now\n",
    "          A33 : delay in paying off in the past\n",
    "\t      A34 : critical account/other credits existing (not at this bank)\n",
    "\n",
    "4. **Purpose for credit:** Coded as a categorical variable\n",
    "\n",
    "          A40 : car (new)\n",
    "\t      A41 : car (used)\n",
    "\t      A42 : furniture/equipment\n",
    "\t      A43 : radio/television\n",
    "\t      A44 : domestic appliances\n",
    "\t      A45 : repairs\n",
    "\t      A46 : education\n",
    "\t      A47 : (vacation - does not exist?)\n",
    "\t      A48 : retraining\n",
    "\t      A49 : business\n",
    "\t      A410 : others\n",
    "\n",
    "5. **Credit amount:** Credit amount requested which is coded as a numerical variable\n",
    "\n",
    "6. **Savings account/bonds:** Health of the savings account coded as a categorical variable\n",
    "\n",
    "          A61 :          ... <  100 DM\n",
    "\t      A62 :   100 <= ... <  500 DM\n",
    "\t      A63 :   500 <= ... < 1000 DM\n",
    "\t      A64 :          .. >= 1000 DM\n",
    "          A65 :   unknown/ no savings account\n",
    "\n",
    "7. **Present employment since:** Number of years working in the present employemnt coded as a categorical variable\n",
    "\n",
    "          A71 : unemployed\n",
    "\t      A72 :       ... < 1 year\n",
    "\t      A73 : 1  <= ... < 4 years  \n",
    "\t      A74 : 4  <= ... < 7 years\n",
    "\t      A75 :       .. >= 7 years\n",
    "\n",
    "8. **Installment rate in percentage of disposable income:** Rate of installment coded as a numerical variable\n",
    "\n",
    "9. **Personal status and sex:** Background of an applicant coded as a categorical variable\n",
    "\n",
    "        A91 : male   : divorced/separated\n",
    "\t    A92 : female : divorced/separated/married\n",
    "        A93 : male   : single\n",
    "\t    A94 : male   : married/widowed\n",
    "\t    A95 : female : single\n",
    "\n",
    "10. **Other debtors / guarantors:** Availability of other guarantors coded as a categorical variable\n",
    "\n",
    "        A101 : none\n",
    "\t    A102 : co-applicant\n",
    "\t    A103 : guarantor\n",
    "\n",
    "11. **Present residence since:** A numerical variable captures the number of years an applicant is residing at his current residence\n",
    "\n",
    "12. **Property:** Property owned by an applicant\n",
    "\n",
    "        A121 : real estate\n",
    "\t    A122 : if not A121 : building society savings agreement/life insurance\n",
    "        A123 : if not A121/A122 : car or other, not in attribute 6\n",
    "\t    A124 : unknown / no property\n",
    "\n",
    "13. **Age in years:** Coded as a numerical variable\n",
    "\n",
    "14. **Other installment plans:** Details of other installment plans coded as a categorical variable\n",
    "\n",
    "        A141 : bank\n",
    "\t    A142 : stores\n",
    "\t    A143 : none\n",
    "\n",
    "15. **Housing:** Housing type coded as a categorical variable\n",
    "\n",
    "        A151 : rent\n",
    "\t    A152 : own\n",
    "\t    A153 : for free\n",
    "\n",
    "16. **Number of existing credits at this bank:** any other credits at this bank coded as a numerical variable\n",
    "\n",
    "17. **Job:** Type of job being done by an applicant coded as a categorical variable\n",
    "\n",
    "        A171 : unemployed/ unskilled  - non-resident\n",
    "\t    A172 : unskilled - resident\n",
    "\t    A173 : skilled employee / official\n",
    "\t    A174 : management/ self-employed/ highly qualified employee/ officer\n",
    "\n",
    "18. **Number of people being liable to provide maintenance for:** Coded as a numeral\n",
    "\n",
    "19. **Telephone:** Telephonic details coded as a categorical variable\n",
    "\n",
    "        A191 : none\n",
    "\t    A192 : yes, registered under the customers name\n",
    "\n",
    "20. **Foreign worker:** Working status of an applicant coded as a categorical variable\n",
    "\n",
    "        A201 : yes\n",
    "\t    A202 : no\n",
    "\n",
    "21. **Target:** Binary where 1 refers to *good credit* and 2 refers to *bad credit* risk.\n",
    "\n",
    "\n",
    "\n",
    "\n",
    "\n",
    "\n",
    "\n"
   ]
  },
  {
   "cell_type": "markdown",
   "metadata": {
    "id": "AXU1VtMlLl1_"
   },
   "source": [
    "### **Load dataset**"
   ]
  },
  {
   "cell_type": "markdown",
   "metadata": {
    "id": "ae4WH_cSL1wy"
   },
   "source": [
    "Let's start by loading the german credit data as a Pandas DataFrame and viewing the first few rows."
   ]
  },
  {
   "cell_type": "code",
   "execution_count": 1,
   "metadata": {
    "id": "l4kxfPHSEd_j"
   },
   "outputs": [],
   "source": [
    "import pandas as pd\n",
    "df = pd.read_csv('german_credit_data.csv', sep = ' ', header= None)\n",
    "#rename columns\n",
    "df.columns = ['ChkAccountStatus', 'Duration', 'CreditHistory', 'Purpose', 'CreditAmt','SavingsAcc',\n",
    "              'Employment','InstallmentRate','PersonalStatus','Guarantors','Residence','Property',\n",
    "              'Age', 'InstallmentPlans','Housing','ExistingCredits','Job','PeopleforLiability',\n",
    "              'Telephone','ForeignWorker','Target']"
   ]
  },
  {
   "cell_type": "markdown",
   "metadata": {
    "id": "XEdmbyAhLuT2"
   },
   "source": [
    "Visualize first 10 rows of the dataset"
   ]
  },
  {
   "cell_type": "code",
   "execution_count": 2,
   "metadata": {
    "colab": {
     "base_uri": "https://localhost:8080/",
     "height": 379
    },
    "id": "jC7-Zx4xElqm",
    "outputId": "2d88f5d8-39c7-4a26-9bde-e7ed8abb5524"
   },
   "outputs": [
    {
     "data": {
      "text/html": [
       "<div>\n",
       "<style scoped>\n",
       "    .dataframe tbody tr th:only-of-type {\n",
       "        vertical-align: middle;\n",
       "    }\n",
       "\n",
       "    .dataframe tbody tr th {\n",
       "        vertical-align: top;\n",
       "    }\n",
       "\n",
       "    .dataframe thead th {\n",
       "        text-align: right;\n",
       "    }\n",
       "</style>\n",
       "<table border=\"1\" class=\"dataframe\">\n",
       "  <thead>\n",
       "    <tr style=\"text-align: right;\">\n",
       "      <th></th>\n",
       "      <th>ChkAccountStatus</th>\n",
       "      <th>Duration</th>\n",
       "      <th>CreditHistory</th>\n",
       "      <th>Purpose</th>\n",
       "      <th>CreditAmt</th>\n",
       "      <th>SavingsAcc</th>\n",
       "      <th>Employment</th>\n",
       "      <th>InstallmentRate</th>\n",
       "      <th>PersonalStatus</th>\n",
       "      <th>Guarantors</th>\n",
       "      <th>...</th>\n",
       "      <th>Property</th>\n",
       "      <th>Age</th>\n",
       "      <th>InstallmentPlans</th>\n",
       "      <th>Housing</th>\n",
       "      <th>ExistingCredits</th>\n",
       "      <th>Job</th>\n",
       "      <th>PeopleforLiability</th>\n",
       "      <th>Telephone</th>\n",
       "      <th>ForeignWorker</th>\n",
       "      <th>Target</th>\n",
       "    </tr>\n",
       "  </thead>\n",
       "  <tbody>\n",
       "    <tr>\n",
       "      <th>0</th>\n",
       "      <td>A11</td>\n",
       "      <td>6</td>\n",
       "      <td>A34</td>\n",
       "      <td>A43</td>\n",
       "      <td>1169</td>\n",
       "      <td>A65</td>\n",
       "      <td>A75</td>\n",
       "      <td>4</td>\n",
       "      <td>A93</td>\n",
       "      <td>A101</td>\n",
       "      <td>...</td>\n",
       "      <td>A121</td>\n",
       "      <td>67</td>\n",
       "      <td>A143</td>\n",
       "      <td>A152</td>\n",
       "      <td>2</td>\n",
       "      <td>A173</td>\n",
       "      <td>1</td>\n",
       "      <td>A192</td>\n",
       "      <td>A201</td>\n",
       "      <td>1</td>\n",
       "    </tr>\n",
       "    <tr>\n",
       "      <th>1</th>\n",
       "      <td>A12</td>\n",
       "      <td>48</td>\n",
       "      <td>A32</td>\n",
       "      <td>A43</td>\n",
       "      <td>5951</td>\n",
       "      <td>A61</td>\n",
       "      <td>A73</td>\n",
       "      <td>2</td>\n",
       "      <td>A92</td>\n",
       "      <td>A101</td>\n",
       "      <td>...</td>\n",
       "      <td>A121</td>\n",
       "      <td>22</td>\n",
       "      <td>A143</td>\n",
       "      <td>A152</td>\n",
       "      <td>1</td>\n",
       "      <td>A173</td>\n",
       "      <td>1</td>\n",
       "      <td>A191</td>\n",
       "      <td>A201</td>\n",
       "      <td>2</td>\n",
       "    </tr>\n",
       "    <tr>\n",
       "      <th>2</th>\n",
       "      <td>A14</td>\n",
       "      <td>12</td>\n",
       "      <td>A34</td>\n",
       "      <td>A46</td>\n",
       "      <td>2096</td>\n",
       "      <td>A61</td>\n",
       "      <td>A74</td>\n",
       "      <td>2</td>\n",
       "      <td>A93</td>\n",
       "      <td>A101</td>\n",
       "      <td>...</td>\n",
       "      <td>A121</td>\n",
       "      <td>49</td>\n",
       "      <td>A143</td>\n",
       "      <td>A152</td>\n",
       "      <td>1</td>\n",
       "      <td>A172</td>\n",
       "      <td>2</td>\n",
       "      <td>A191</td>\n",
       "      <td>A201</td>\n",
       "      <td>1</td>\n",
       "    </tr>\n",
       "    <tr>\n",
       "      <th>3</th>\n",
       "      <td>A11</td>\n",
       "      <td>42</td>\n",
       "      <td>A32</td>\n",
       "      <td>A42</td>\n",
       "      <td>7882</td>\n",
       "      <td>A61</td>\n",
       "      <td>A74</td>\n",
       "      <td>2</td>\n",
       "      <td>A93</td>\n",
       "      <td>A103</td>\n",
       "      <td>...</td>\n",
       "      <td>A122</td>\n",
       "      <td>45</td>\n",
       "      <td>A143</td>\n",
       "      <td>A153</td>\n",
       "      <td>1</td>\n",
       "      <td>A173</td>\n",
       "      <td>2</td>\n",
       "      <td>A191</td>\n",
       "      <td>A201</td>\n",
       "      <td>1</td>\n",
       "    </tr>\n",
       "    <tr>\n",
       "      <th>4</th>\n",
       "      <td>A11</td>\n",
       "      <td>24</td>\n",
       "      <td>A33</td>\n",
       "      <td>A40</td>\n",
       "      <td>4870</td>\n",
       "      <td>A61</td>\n",
       "      <td>A73</td>\n",
       "      <td>3</td>\n",
       "      <td>A93</td>\n",
       "      <td>A101</td>\n",
       "      <td>...</td>\n",
       "      <td>A124</td>\n",
       "      <td>53</td>\n",
       "      <td>A143</td>\n",
       "      <td>A153</td>\n",
       "      <td>2</td>\n",
       "      <td>A173</td>\n",
       "      <td>2</td>\n",
       "      <td>A191</td>\n",
       "      <td>A201</td>\n",
       "      <td>2</td>\n",
       "    </tr>\n",
       "    <tr>\n",
       "      <th>5</th>\n",
       "      <td>A14</td>\n",
       "      <td>36</td>\n",
       "      <td>A32</td>\n",
       "      <td>A46</td>\n",
       "      <td>9055</td>\n",
       "      <td>A65</td>\n",
       "      <td>A73</td>\n",
       "      <td>2</td>\n",
       "      <td>A93</td>\n",
       "      <td>A101</td>\n",
       "      <td>...</td>\n",
       "      <td>A124</td>\n",
       "      <td>35</td>\n",
       "      <td>A143</td>\n",
       "      <td>A153</td>\n",
       "      <td>1</td>\n",
       "      <td>A172</td>\n",
       "      <td>2</td>\n",
       "      <td>A192</td>\n",
       "      <td>A201</td>\n",
       "      <td>1</td>\n",
       "    </tr>\n",
       "    <tr>\n",
       "      <th>6</th>\n",
       "      <td>A14</td>\n",
       "      <td>24</td>\n",
       "      <td>A32</td>\n",
       "      <td>A42</td>\n",
       "      <td>2835</td>\n",
       "      <td>A63</td>\n",
       "      <td>A75</td>\n",
       "      <td>3</td>\n",
       "      <td>A93</td>\n",
       "      <td>A101</td>\n",
       "      <td>...</td>\n",
       "      <td>A122</td>\n",
       "      <td>53</td>\n",
       "      <td>A143</td>\n",
       "      <td>A152</td>\n",
       "      <td>1</td>\n",
       "      <td>A173</td>\n",
       "      <td>1</td>\n",
       "      <td>A191</td>\n",
       "      <td>A201</td>\n",
       "      <td>1</td>\n",
       "    </tr>\n",
       "    <tr>\n",
       "      <th>7</th>\n",
       "      <td>A12</td>\n",
       "      <td>36</td>\n",
       "      <td>A32</td>\n",
       "      <td>A41</td>\n",
       "      <td>6948</td>\n",
       "      <td>A61</td>\n",
       "      <td>A73</td>\n",
       "      <td>2</td>\n",
       "      <td>A93</td>\n",
       "      <td>A101</td>\n",
       "      <td>...</td>\n",
       "      <td>A123</td>\n",
       "      <td>35</td>\n",
       "      <td>A143</td>\n",
       "      <td>A151</td>\n",
       "      <td>1</td>\n",
       "      <td>A174</td>\n",
       "      <td>1</td>\n",
       "      <td>A192</td>\n",
       "      <td>A201</td>\n",
       "      <td>1</td>\n",
       "    </tr>\n",
       "    <tr>\n",
       "      <th>8</th>\n",
       "      <td>A14</td>\n",
       "      <td>12</td>\n",
       "      <td>A32</td>\n",
       "      <td>A43</td>\n",
       "      <td>3059</td>\n",
       "      <td>A64</td>\n",
       "      <td>A74</td>\n",
       "      <td>2</td>\n",
       "      <td>A91</td>\n",
       "      <td>A101</td>\n",
       "      <td>...</td>\n",
       "      <td>A121</td>\n",
       "      <td>61</td>\n",
       "      <td>A143</td>\n",
       "      <td>A152</td>\n",
       "      <td>1</td>\n",
       "      <td>A172</td>\n",
       "      <td>1</td>\n",
       "      <td>A191</td>\n",
       "      <td>A201</td>\n",
       "      <td>1</td>\n",
       "    </tr>\n",
       "    <tr>\n",
       "      <th>9</th>\n",
       "      <td>A12</td>\n",
       "      <td>30</td>\n",
       "      <td>A34</td>\n",
       "      <td>A40</td>\n",
       "      <td>5234</td>\n",
       "      <td>A61</td>\n",
       "      <td>A71</td>\n",
       "      <td>4</td>\n",
       "      <td>A94</td>\n",
       "      <td>A101</td>\n",
       "      <td>...</td>\n",
       "      <td>A123</td>\n",
       "      <td>28</td>\n",
       "      <td>A143</td>\n",
       "      <td>A152</td>\n",
       "      <td>2</td>\n",
       "      <td>A174</td>\n",
       "      <td>1</td>\n",
       "      <td>A191</td>\n",
       "      <td>A201</td>\n",
       "      <td>2</td>\n",
       "    </tr>\n",
       "  </tbody>\n",
       "</table>\n",
       "<p>10 rows × 21 columns</p>\n",
       "</div>"
      ],
      "text/plain": [
       "  ChkAccountStatus  Duration CreditHistory Purpose  CreditAmt SavingsAcc  \\\n",
       "0              A11         6           A34     A43       1169        A65   \n",
       "1              A12        48           A32     A43       5951        A61   \n",
       "2              A14        12           A34     A46       2096        A61   \n",
       "3              A11        42           A32     A42       7882        A61   \n",
       "4              A11        24           A33     A40       4870        A61   \n",
       "5              A14        36           A32     A46       9055        A65   \n",
       "6              A14        24           A32     A42       2835        A63   \n",
       "7              A12        36           A32     A41       6948        A61   \n",
       "8              A14        12           A32     A43       3059        A64   \n",
       "9              A12        30           A34     A40       5234        A61   \n",
       "\n",
       "  Employment  InstallmentRate PersonalStatus Guarantors  ...  Property Age  \\\n",
       "0        A75                4            A93       A101  ...      A121  67   \n",
       "1        A73                2            A92       A101  ...      A121  22   \n",
       "2        A74                2            A93       A101  ...      A121  49   \n",
       "3        A74                2            A93       A103  ...      A122  45   \n",
       "4        A73                3            A93       A101  ...      A124  53   \n",
       "5        A73                2            A93       A101  ...      A124  35   \n",
       "6        A75                3            A93       A101  ...      A122  53   \n",
       "7        A73                2            A93       A101  ...      A123  35   \n",
       "8        A74                2            A91       A101  ...      A121  61   \n",
       "9        A71                4            A94       A101  ...      A123  28   \n",
       "\n",
       "   InstallmentPlans Housing ExistingCredits   Job PeopleforLiability  \\\n",
       "0              A143    A152               2  A173                  1   \n",
       "1              A143    A152               1  A173                  1   \n",
       "2              A143    A152               1  A172                  2   \n",
       "3              A143    A153               1  A173                  2   \n",
       "4              A143    A153               2  A173                  2   \n",
       "5              A143    A153               1  A172                  2   \n",
       "6              A143    A152               1  A173                  1   \n",
       "7              A143    A151               1  A174                  1   \n",
       "8              A143    A152               1  A172                  1   \n",
       "9              A143    A152               2  A174                  1   \n",
       "\n",
       "   Telephone ForeignWorker Target  \n",
       "0       A192          A201      1  \n",
       "1       A191          A201      2  \n",
       "2       A191          A201      1  \n",
       "3       A191          A201      1  \n",
       "4       A191          A201      2  \n",
       "5       A192          A201      1  \n",
       "6       A191          A201      1  \n",
       "7       A192          A201      1  \n",
       "8       A191          A201      1  \n",
       "9       A191          A201      2  \n",
       "\n",
       "[10 rows x 21 columns]"
      ]
     },
     "execution_count": 2,
     "metadata": {},
     "output_type": "execute_result"
    }
   ],
   "source": [
    "df.head(10)"
   ]
  },
  {
   "cell_type": "markdown",
   "metadata": {},
   "source": [
    "Now that we know what the features and labels in the data represent, let's explore the dataset. First, let's see if there are any missing (null) values."
   ]
  },
  {
   "cell_type": "code",
   "execution_count": 3,
   "metadata": {},
   "outputs": [
    {
     "data": {
      "text/plain": [
       "ChkAccountStatus      0\n",
       "Duration              0\n",
       "CreditHistory         0\n",
       "Purpose               0\n",
       "CreditAmt             0\n",
       "SavingsAcc            0\n",
       "Employment            0\n",
       "InstallmentRate       0\n",
       "PersonalStatus        0\n",
       "Guarantors            0\n",
       "Residence             0\n",
       "Property              0\n",
       "Age                   0\n",
       "InstallmentPlans      0\n",
       "Housing               0\n",
       "ExistingCredits       0\n",
       "Job                   0\n",
       "PeopleforLiability    0\n",
       "Telephone             0\n",
       "ForeignWorker         0\n",
       "Target                0\n",
       "dtype: int64"
      ]
     },
     "execution_count": 3,
     "metadata": {},
     "output_type": "execute_result"
    }
   ],
   "source": [
    "df.isnull().sum()"
   ]
  },
  {
   "cell_type": "markdown",
   "metadata": {},
   "source": [
    "The dataset is complete as there are no missing values!"
   ]
  },
  {
   "cell_type": "markdown",
   "metadata": {},
   "source": [
    "## Class distribution"
   ]
  },
  {
   "cell_type": "code",
   "execution_count": 4,
   "metadata": {},
   "outputs": [],
   "source": [
    "df['Target'] = df['Target'].map({1: 1, 2: 0})"
   ]
  },
  {
   "cell_type": "code",
   "execution_count": 5,
   "metadata": {},
   "outputs": [
    {
     "data": {
      "text/plain": [
       "1    700\n",
       "0    300\n",
       "Name: Target, dtype: int64"
      ]
     },
     "execution_count": 5,
     "metadata": {},
     "output_type": "execute_result"
    }
   ],
   "source": [
    "df['Target'].value_counts()"
   ]
  },
  {
   "cell_type": "code",
   "execution_count": 6,
   "metadata": {},
   "outputs": [
    {
     "data": {
      "text/plain": [
       "Text(0.5, 1.0, 'Class distribution')"
      ]
     },
     "execution_count": 6,
     "metadata": {},
     "output_type": "execute_result"
    },
    {
     "data": {
      "image/png": "[encoded data removed]",
      "text/plain": [
       "<Figure size 432x288 with 1 Axes>"
      ]
     },
     "metadata": {
      "needs_background": "light"
     },
     "output_type": "display_data"
    }
   ],
   "source": [
    "import matplotlib.pyplot as plt\n",
    "df['Target'].value_counts().plot(kind='bar', color='purple')\n",
    "plt.xlabel('Target')\n",
    "plt.ylabel('Number of instances')\n",
    "plt.title('Class distribution')"
   ]
  },
  {
   "cell_type": "code",
   "execution_count": 7,
   "metadata": {},
   "outputs": [
    {
     "name": "stdout",
     "output_type": "stream",
     "text": [
      "Imbalance ratio is: 2.33\n"
     ]
    }
   ],
   "source": [
    "#Identify class imbalance ratio\n",
    "imb_ratio = len(df[df['Target'] == 1]) / len(df[df['Target'] == 0])\n",
    "print('Imbalance ratio is:',\"%.2f\" % imb_ratio)"
   ]
  },
  {
   "cell_type": "markdown",
   "metadata": {},
   "source": [
    "## Feature engineering"
   ]
  },
  {
   "cell_type": "markdown",
   "metadata": {
    "id": "Fwvz1dzNEnBs"
   },
   "source": [
    "Let's separate the features from the labels - we'll call the features X and the label y. X includes both numerical and categorical features."
   ]
  },
  {
   "cell_type": "code",
   "execution_count": 8,
   "metadata": {},
   "outputs": [
    {
     "name": "stdout",
     "output_type": "stream",
     "text": [
      "Numerical features: ['Duration', 'CreditAmt', 'InstallmentRate', 'Residence', 'Age', 'ExistingCredits', 'PeopleforLiability']\n",
      "Categorical features: ['Telephone', 'InstallmentPlans', 'Job', 'ChkAccountStatus', 'SavingsAcc', 'PersonalStatus', 'ForeignWorker', 'Purpose', 'Guarantors', 'CreditHistory', 'Housing', 'Employment', 'Property']\n",
      "Total number of features or attributes: 20\n"
     ]
    }
   ],
   "source": [
    "# Separate features and labels\n",
    "\n",
    "numeric_features = df.describe().columns.tolist()\n",
    "\n",
    "#Drop Target from numerical features\n",
    "\n",
    "numeric_features.pop(-1)\n",
    "\n",
    "print('Numerical features:',numeric_features)\n",
    "\n",
    "#categorical columns \n",
    "categorical_features = list(set(df.columns.tolist()).difference(df.describe().columns.tolist()))\n",
    "\n",
    "print('Categorical features:',categorical_features)\n",
    "\n",
    "df[categorical_features] = df[categorical_features].astype('category')\n",
    "\n",
    "#feature names\n",
    "features = numeric_features + categorical_features\n",
    "\n",
    "print('Total number of features or attributes:', len(features))"
   ]
  },
  {
   "cell_type": "markdown",
   "metadata": {},
   "source": [
    "### Numerical features"
   ]
  },
  {
   "cell_type": "markdown",
   "metadata": {},
   "source": [
    "Now let's compare the numerical feature distributions for each label value."
   ]
  },
  {
   "cell_type": "code",
   "execution_count": 9,
   "metadata": {},
   "outputs": [
    {
     "data": {
      "text/plain": [
       "2"
      ]
     },
     "execution_count": 9,
     "metadata": {},
     "output_type": "execute_result"
    }
   ],
   "source": [
    "import numpy as np\n",
    "int(np.ceil(4/3))"
   ]
  },
  {
   "cell_type": "code",
   "execution_count": 10,
   "metadata": {
    "scrolled": false
   },
   "outputs": [
    {
     "data": {
      "image/png": "[encoded data removed]",
      "text/plain": [
       "<Figure size 1080x864 with 7 Axes>"
      ]
     },
     "metadata": {
      "needs_background": "light"
     },
     "output_type": "display_data"
    }
   ],
   "source": [
    "from matplotlib import pyplot as plt\n",
    "import numpy as np\n",
    "%matplotlib inline\n",
    "figure, axes = plt.subplots(3, 3, figsize=(15,12))\n",
    "plt.subplots_adjust(hspace = 0.5, wspace=0.5)\n",
    "figure.delaxes(axes[-1, -1])\n",
    "figure.delaxes(axes[-1, -2])\n",
    "i=0\n",
    "\n",
    "for col in numeric_features:\n",
    "    a = int(np.floor(i/3))\n",
    "    b = i%3\n",
    "#     print(a,b)\n",
    "    df.boxplot(column=col, by='Target', ax=axes[a][b])\n",
    "    i=i+1\n",
    "    plt.title(col)\n",
    "plt.show()"
   ]
  },
  {
   "cell_type": "markdown",
   "metadata": {},
   "source": [
    "By looking at the box plots, we obsereve that \"Duration\", \"Credit Amount\", \"Age\", \"Installment rate\" seem to be strong predictors!"
   ]
  },
  {
   "cell_type": "code",
   "execution_count": 11,
   "metadata": {},
   "outputs": [
    {
     "name": "stdout",
     "output_type": "stream",
     "text": [
      "Updated number of features: 16\n"
     ]
    }
   ],
   "source": [
    "numeric_features = ['Duration', 'Age', 'CreditAmt']\n",
    "features = numeric_features + categorical_features\n",
    "print('Updated number of features:', len(features))"
   ]
  },
  {
   "cell_type": "markdown",
   "metadata": {},
   "source": [
    "### Categorical features"
   ]
  },
  {
   "cell_type": "markdown",
   "metadata": {},
   "source": [
    "Let's analyze how categorical variables affect the good credit rate (i.e., good credit instances divided by the total instances)"
   ]
  },
  {
   "cell_type": "code",
   "execution_count": 12,
   "metadata": {},
   "outputs": [
    {
     "data": {
      "image/png": "[encoded data removed]",
      "text/plain": [
       "<Figure size 1080x1440 with 13 Axes>"
      ]
     },
     "metadata": {
      "needs_background": "light"
     },
     "output_type": "display_data"
    }
   ],
   "source": [
    "%matplotlib inline\n",
    "figure, axes = plt.subplots(5, 3, figsize=(15,20))\n",
    "plt.subplots_adjust(hspace = 0.7, wspace=0.5)\n",
    "figure.delaxes(axes[-1, -1])\n",
    "figure.delaxes(axes[-1, -2])\n",
    "i=0\n",
    "\n",
    "for col in categorical_features:\n",
    "    a = int(np.floor(i/3))\n",
    "    b = i%3\n",
    "    df.pivot_table(\"Target\",index=col).plot(kind='bar', color='grey', legend=False, ax=axes[a,b])\n",
    "    axes[a][b].set_ylabel('% of good credit risk')\n",
    "    i = i+1\n",
    "plt.show()"
   ]
  },
  {
   "cell_type": "markdown",
   "metadata": {},
   "source": [
    "By looking at the box plots, we obsereve that \"Telephone\" and \"Job\" might not seem to be strong predictors!"
   ]
  },
  {
   "cell_type": "code",
   "execution_count": 13,
   "metadata": {},
   "outputs": [
    {
     "name": "stdout",
     "output_type": "stream",
     "text": [
      "Updated number of features: 14\n"
     ]
    }
   ],
   "source": [
    "categorical_features = ['ChkAccountStatus', 'PersonalStatus', 'InstallmentPlans', \n",
    "                        'Purpose', 'Employment', 'SavingsAcc', 'Guarantors', 'CreditHistory', \n",
    "                        'Property', 'ForeignWorker', 'Housing']\n",
    "features = numeric_features + categorical_features\n",
    "print('Updated number of features:', len(features))"
   ]
  },
  {
   "cell_type": "markdown",
   "metadata": {},
   "source": [
    "## Cross-validation"
   ]
  },
  {
   "cell_type": "markdown",
   "metadata": {},
   "source": [
    "Now we use cross-validatin technique to compare the performance of several classifiers. In this notebook, we have cosnidered the following 8 classifiers.\n",
    "\n",
    "1. Logistic regression (LR),\n",
    "2. Random forest (RF),\n",
    "3. Weighted Logistic regression (LR-W),\n",
    "4. Weighted random forest (RF-W),\n",
    "5. Balanced random forest classifier (BRF),\n",
    "6. Easy Ensemble Classifier (EEC),\n",
    "7. RUSBoost Classifier (RBC), and\n",
    "8. Balanced Bagging Classifier (BBC)\n",
    "\n",
    "Apart from first two, rests of the classifiers can handle class imbalance.\n"
   ]
  },
  {
   "cell_type": "markdown",
   "metadata": {},
   "source": [
    "First, we define features and labels before classifiers are trained."
   ]
  },
  {
   "cell_type": "code",
   "execution_count": 14,
   "metadata": {},
   "outputs": [],
   "source": [
    "from sklearn.model_selection import train_test_split\n",
    "\n",
    "# Separate features and labels\n",
    "label = 'Target'\n",
    "X, y = df[features], df[label]"
   ]
  },
  {
   "cell_type": "markdown",
   "metadata": {},
   "source": [
    "We use a pipeline to perform the cross-validation. Our pipeline has several components.\n",
    "\n",
    "1. One-hot encoding for categorical features\n",
    "2. Standard scaler for numerical features\n",
    "3. 10-fold validation\n",
    "\n",
    "We look at balanced accuray and precision to evalaute the performance of classifiers. The balanced accuracy computes an arithmetic mean of class-specific accuracies. Whereas, the precision focuses on how good the classifier is in prediciting good credit risks."
   ]
  },
  {
   "cell_type": "code",
   "execution_count": 36,
   "metadata": {
    "scrolled": false
   },
   "outputs": [
    {
     "name": "stdout",
     "output_type": "stream",
     "text": [
      "Model Accuracy BalAcc Precision\n",
      "LR 0.754000 0.672857 0.794589 \n",
      "RF 0.760000 0.669524 0.790521 \n",
      "LR_W 0.735000 0.738333 0.870983 \n",
      "RF_W 0.765000 0.667381 0.786937 \n",
      "BRF 0.693000 0.702619 0.852706 \n",
      "EEC 0.706000 0.715714 0.861701 \n",
      "RBC 0.721000 0.717857 0.855539 \n",
      "BBC 0.682000 0.692857 0.847639 \n"
     ]
    }
   ],
   "source": [
    "from sklearn.linear_model import LogisticRegression\n",
    "from sklearn.ensemble import RandomForestClassifier, AdaBoostClassifier\n",
    "from sklearn.compose import ColumnTransformer\n",
    "from sklearn.preprocessing import OneHotEncoder, StandardScaler, LabelEncoder\n",
    "from sklearn.pipeline import Pipeline\n",
    "from sklearn.metrics import confusion_matrix, accuracy_score, recall_score, precision_score\n",
    "from imblearn.metrics import geometric_mean_score\n",
    "from imblearn.ensemble import EasyEnsembleClassifier, RUSBoostClassifier, BalancedBaggingClassifier, BalancedRandomForestClassifier\n",
    "from imblearn.over_sampling import RandomOverSampler, SMOTE\n",
    "from imblearn.under_sampling import RandomUnderSampler, TomekLinks\n",
    "from sklearn.model_selection import cross_val_score, StratifiedKFold, cross_validate\n",
    "\n",
    "column_trans = ColumnTransformer(\n",
    "    [('category', OneHotEncoder(), categorical_features),\n",
    "     ('numerical', StandardScaler(), numeric_features)])\n",
    "\n",
    "scoring = {'accuracy','balanced_accuracy','precision'}\n",
    "\n",
    "models = []\n",
    "\n",
    "models.append(('LR', LogisticRegression(random_state=42)))\n",
    "models.append(('RF', RandomForestClassifier(random_state=42)))\n",
    "models.append(('LR_W', LogisticRegression(random_state=42,class_weight=\"balanced\")))\n",
    "models.append(('RF_W', RandomForestClassifier(random_state=42, class_weight = \"balanced\")))\n",
    "models.append(('BRF', BalancedRandomForestClassifier(random_state=42)))\n",
    "models.append(('EEC', EasyEnsembleClassifier(base_estimator=AdaBoostClassifier(random_state=42))))\n",
    "models.append(('RBC', RUSBoostClassifier(random_state=42)))\n",
    "models.append(('BBC', BalancedBaggingClassifier(random_state=42)))\n",
    "\n",
    "results_acc = []\n",
    "results_bal_acc = []\n",
    "results_prec = []\n",
    "\n",
    "names = []\n",
    "print('Model', 'Accuracy', 'BalAcc', 'Precision')\n",
    "for name, model in models:\n",
    "    rf = Pipeline(steps=[('preprocessor', column_trans),\n",
    "                      ('classifier', model)])\n",
    "    kfold = StratifiedKFold(n_splits=10)\n",
    "    cv_results = cross_validate(rf, X, y, cv=kfold, scoring=scoring)\n",
    "    results_bal_acc.append(cv_results['test_balanced_accuracy'])\n",
    "    results_acc.append(cv_results['test_accuracy'])\n",
    "    results_prec.append(cv_results['test_precision'])\n",
    "    names.append(name)\n",
    "    msg = \"%s %f %f %f \" % (name, cv_results['test_accuracy'].mean(), cv_results['test_balanced_accuracy'].mean(), cv_results['test_precision'].mean())\n",
    "    print(msg)"
   ]
  },
  {
   "cell_type": "code",
   "execution_count": 34,
   "metadata": {},
   "outputs": [
    {
     "data": {
      "image/png": "[encoded data removed]",
      "text/plain": [
       "<Figure size 432x288 with 1 Axes>"
      ]
     },
     "metadata": {
      "needs_background": "light"
     },
     "output_type": "display_data"
    }
   ],
   "source": [
    "x = np.arange(len(names))\n",
    "y1 = np.mean(results_acc, axis=1)\n",
    "y2 = np.mean(results_bal_acc, axis=1)\n",
    "y3 = np.mean(results_prec, axis=1)\n",
    "width = 0.30\n",
    "  \n",
    "# plot data in grouped manner of bar type\n",
    "plt.bar(x-0.3, y1, width, color='red', label='accuracy')\n",
    "plt.bar(x, y2, width, color='purple', label='Balanced accuracy')\n",
    "plt.bar(x+0.3, y3, width, color='grey', label='Precision')\n",
    "plt.xticks([r for r in range(len(names))],names)\n",
    "plt.ylabel('Score')\n",
    "plt.legend(loc='upper left');\n",
    "plt.ylim([0.6,0.98]);"
   ]
  },
  {
   "cell_type": "markdown",
   "metadata": {},
   "source": [
    "# Conclusions"
   ]
  },
  {
   "cell_type": "markdown",
   "metadata": {},
   "source": [
    "This dataset suffers from class imbalance. Therfore, we observe that accuracy can be a misleading metric. Therefore, we use balanced accuracy in this case that tries to incoporate the class-specific accuracies in a single formula. \n",
    "\n",
    "Precision is considered here to evalaute the quality of models so that *bad credit risks* are not transfered as *good ones*. Higher the pre\n",
    "\n",
    "Our results suggest that weighted logistic regression achieves a balanced accuracy of 73.83% and a precision of 87.07%. A comparable performance is achieved by the Easy Ensemble Classifier which shows a balanced accuracy of 73.35% and a precision of 87.38%."
   ]
  }
 ],
 "metadata": {
  "colab": {
   "collapsed_sections": [],
   "name": "German-credit-data.ipynb",
   "provenance": []
  },
  "kernelspec": {
   "display_name": "Python 3",
   "language": "python",
   "name": "python3"
  },
  "language_info": {
   "codemirror_mode": {
    "name": "ipython",
    "version": 3
   },
   "file_extension": ".py",
   "mimetype": "text/x-python",
   "name": "python",
   "nbconvert_exporter": "python",
   "pygments_lexer": "ipython3",
   "version": "3.6.7"
  }
 },
 "nbformat": 4,
 "nbformat_minor": 1
}
