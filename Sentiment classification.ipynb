{
 "cells": [
  {
   "cell_type": "markdown",
   "metadata": {},
   "source": [
    "# Introduction"
   ]
  },
  {
   "cell_type": "markdown",
   "metadata": {},
   "source": [
    "Sentiment prediction is an interesting task. We will implemement a bi-directional GRU and a bi-directional LSTM neural network to classify a sentence either as positive or negative. Finally, we depoy the model using flask. "
   ]
  },
  {
   "cell_type": "code",
   "execution_count": 71,
   "metadata": {},
   "outputs": [],
   "source": [
    "import matplotlib.pyplot as plt\n",
    "import os\n",
    "import re\n",
    "import shutil\n",
    "import string\n",
    "import tensorflow as tf\n",
    "\n",
    "from tensorflow.keras import layers, Input\n",
    "from tensorflow.keras import losses, optimizers\n",
    "from tensorflow.keras import preprocessing\n",
    "from tensorflow.keras import regularizers\n",
    "from tensorflow.keras.layers.experimental.preprocessing import TextVectorization"
   ]
  },
  {
   "cell_type": "code",
   "execution_count": 33,
   "metadata": {},
   "outputs": [],
   "source": [
    "url = 'https://ai.stanford.edu/~amaas/data/sentiment/aclImdb_v1.tar.gz'\n",
    "\n",
    "dataset = tf.keras.utils.get_file('aclImdb_v1.tar.gz', url,\n",
    "                                  untar=True, cache_dir='.',\n",
    "                                  cache_subdir='')\n",
    "\n",
    "dataset_dir = os.path.join(os.path.dirname(dataset), 'aclImdb')\n",
    "\n",
    "train_dir = os.path.join(dataset_dir, 'train')\n",
    "\n",
    "# remove unused folders to make it easier to load the data\n",
    "remove_dir = os.path.join(train_dir, 'unsup')\n",
    "shutil.rmtree(remove_dir)"
   ]
  },
  {
   "cell_type": "code",
   "execution_count": 89,
   "metadata": {},
   "outputs": [
    {
     "name": "stdout",
     "output_type": "stream",
     "text": [
      "Found 25000 files belonging to 2 classes.\n",
      "Using 20000 files for training.\n",
      "Found 25000 files belonging to 2 classes.\n",
      "Using 5000 files for validation.\n",
      "Found 25000 files belonging to 2 classes.\n"
     ]
    }
   ],
   "source": [
    "AUTOTUNE = tf.data.AUTOTUNE\n",
    "batch_size = 256\n",
    "seed = 42\n",
    "\n",
    "raw_train_ds = tf.keras.preprocessing.text_dataset_from_directory(\n",
    "    'aclImdb/train',\n",
    "    batch_size=batch_size,\n",
    "    validation_split=0.2,\n",
    "    subset='training',\n",
    "    seed=seed)\n",
    "\n",
    "class_names = raw_train_ds.class_names\n",
    "\n",
    "val_ds = tf.keras.preprocessing.text_dataset_from_directory(\n",
    "    'aclImdb/train',\n",
    "    batch_size=batch_size,\n",
    "    validation_split=0.2,\n",
    "    subset='validation',\n",
    "    seed=seed)\n",
    "\n",
    "\n",
    "test_ds = tf.keras.preprocessing.text_dataset_from_directory(\n",
    "    'aclImdb/test',\n",
    "    batch_size=batch_size)\n",
    "\n",
    "train_ds = raw_train_ds.cache().prefetch(buffer_size=AUTOTUNE)\n",
    "val_ds = val_ds.cache().prefetch(buffer_size=AUTOTUNE)\n",
    "test_ds = test_ds.cache().prefetch(buffer_size=AUTOTUNE)"
   ]
  },
  {
   "cell_type": "code",
   "execution_count": 90,
   "metadata": {},
   "outputs": [
    {
     "name": "stdout",
     "output_type": "stream",
     "text": [
      "Review: b'Example of how a World War 2 documentary should be made,using first hand accounts from actual troops and civilians whom participated in this awful conflict,and archived footage gathered from around the time .I caught this on a re-run on the History channel about a year and a half back,with no knowledge really of the Second World War at the time,but it enveloped me,and now I consider myself a World War 2 buff,watching and reading any and all that I can find about it,but nothing comes close to this landmark documentary,definitely worth buying the boxed set of.............<br /><br />This is quite simply documentary making of the very highest standard.'\n",
      "Label : 1 (pos)\n"
     ]
    }
   ],
   "source": [
    "for text_batch, label_batch in raw_train_ds.take(1):\n",
    "  for i in range(1):\n",
    "    print(f'Review: {text_batch.numpy()[i]}')\n",
    "    label = label_batch.numpy()[i]\n",
    "    print(f'Label : {label} ({class_names[label]})')"
   ]
  },
  {
   "cell_type": "code",
   "execution_count": 91,
   "metadata": {},
   "outputs": [],
   "source": [
    "max_features = 10000\n",
    "sequence_length = 250\n",
    "\n",
    "def custom_standardization(input_data):\n",
    "  lowercase = tf.strings.lower(input_data)\n",
    "  stripped_html = tf.strings.regex_replace(lowercase, '<br />', ' ')\n",
    "  return tf.strings.regex_replace(stripped_html,\n",
    "                                  '[%s]' % re.escape(string.punctuation),\n",
    "                                  '')\n",
    "\n",
    "vectorize_layer = tf.keras.layers.TextVectorization(\n",
    "    standardize = custom_standardization,\n",
    "    max_tokens=max_features,\n",
    "    output_mode='int',\n",
    "    output_sequence_length=sequence_length)\n",
    "\n",
    "embedding_dim = 16"
   ]
  },
  {
   "cell_type": "code",
   "execution_count": 92,
   "metadata": {},
   "outputs": [],
   "source": [
    "# Make a text-only dataset (without labels), then call adapt\n",
    "train_text = raw_train_ds.map(lambda x, y: x)\n",
    "vectorize_layer.adapt(train_text)"
   ]
  },
  {
   "cell_type": "markdown",
   "metadata": {},
   "source": [
    "## Bi-directional GRU model"
   ]
  },
  {
   "cell_type": "code",
   "execution_count": 101,
   "metadata": {},
   "outputs": [
    {
     "name": "stdout",
     "output_type": "stream",
     "text": [
      "Model: \"sequential_11\"\n",
      "_________________________________________________________________\n",
      "Layer (type)                 Output Shape              Param #   \n",
      "=================================================================\n",
      "text_vectorization_6 (TextVe (None, 250)               0         \n",
      "_________________________________________________________________\n",
      "embedding_11 (Embedding)     (None, 250, 16)           160016    \n",
      "_________________________________________________________________\n",
      "dropout_22 (Dropout)         (None, 250, 16)           0         \n",
      "_________________________________________________________________\n",
      "bidirectional_15 (Bidirectio (None, 250, 64)           9600      \n",
      "_________________________________________________________________\n",
      "dropout_23 (Dropout)         (None, 250, 64)           0         \n",
      "_________________________________________________________________\n",
      "bidirectional_16 (Bidirectio (None, 250, 64)           18816     \n",
      "_________________________________________________________________\n",
      "dropout_24 (Dropout)         (None, 250, 64)           0         \n",
      "_________________________________________________________________\n",
      "global_average_pooling1d (Gl (None, 64)                0         \n",
      "_________________________________________________________________\n",
      "dropout_25 (Dropout)         (None, 64)                0         \n",
      "_________________________________________________________________\n",
      "dense_11 (Dense)             (None, 1)                 65        \n",
      "=================================================================\n",
      "Total params: 188,497\n",
      "Trainable params: 188,497\n",
      "Non-trainable params: 0\n",
      "_________________________________________________________________\n"
     ]
    }
   ],
   "source": [
    "model = tf.keras.Sequential([\n",
    "  Input(shape=(1,), dtype=tf.string),\n",
    "  vectorize_layer,\n",
    "  layers.Embedding(max_features + 1, embedding_dim),\n",
    "  layers.Dropout(0.2),\n",
    "  layers.Bidirectional(layers.GRU(32, return_sequences=True)),\n",
    "  layers.Dropout(0.2),\n",
    "  layers.Bidirectional(layers.GRU(32, return_sequences=True)),\n",
    "  layers.Dropout(0.2),\n",
    "  layers.GlobalAveragePooling1D(),\n",
    "  layers.Dropout(0.2),\n",
    "  layers.Dense(1)\n",
    "])\n",
    "\n",
    "model.summary()"
   ]
  },
  {
   "cell_type": "code",
   "execution_count": 102,
   "metadata": {},
   "outputs": [],
   "source": [
    "input_data = [[\"foo qux bar\"], [\"qux baz\"]]"
   ]
  },
  {
   "cell_type": "code",
   "execution_count": 103,
   "metadata": {},
   "outputs": [
    {
     "data": {
      "text/plain": [
       "array([[0.01341667],\n",
       "       [0.01342541]], dtype=float32)"
      ]
     },
     "execution_count": 103,
     "metadata": {},
     "output_type": "execute_result"
    }
   ],
   "source": [
    "model.predict(input_data)"
   ]
  },
  {
   "cell_type": "code",
   "execution_count": 104,
   "metadata": {},
   "outputs": [],
   "source": [
    "early_stopping = tf.keras.callbacks.EarlyStopping(\n",
    "    monitor='val_loss', \n",
    "    verbose=1,\n",
    "    patience=5,\n",
    "    mode='min',\n",
    "    restore_best_weights=True)\n",
    "\n",
    "model.compile(loss=losses.BinaryCrossentropy(from_logits=True),\n",
    "              optimizer='adam',\n",
    "              metrics=tf.metrics.BinaryAccuracy(threshold=0.0))"
   ]
  },
  {
   "cell_type": "code",
   "execution_count": 105,
   "metadata": {
    "scrolled": false
   },
   "outputs": [
    {
     "name": "stdout",
     "output_type": "stream",
     "text": [
      "Epoch 1/20\n",
      "79/79 [==============================] - 98s 1s/step - loss: 0.6339 - binary_accuracy: 0.6116 - val_loss: 0.4259 - val_binary_accuracy: 0.8154\n",
      "Epoch 2/20\n",
      "79/79 [==============================] - 91s 1s/step - loss: 0.3160 - binary_accuracy: 0.8696 - val_loss: 0.3101 - val_binary_accuracy: 0.8714\n",
      "Epoch 3/20\n",
      "79/79 [==============================] - 86s 1s/step - loss: 0.2224 - binary_accuracy: 0.9128 - val_loss: 0.3187 - val_binary_accuracy: 0.8744\n",
      "Epoch 4/20\n",
      "79/79 [==============================] - 84s 1s/step - loss: 0.1747 - binary_accuracy: 0.9366 - val_loss: 0.4060 - val_binary_accuracy: 0.8724\n",
      "Epoch 5/20\n",
      "79/79 [==============================] - 84s 1s/step - loss: 0.1476 - binary_accuracy: 0.9498 - val_loss: 0.4104 - val_binary_accuracy: 0.8682\n",
      "Epoch 6/20\n",
      "79/79 [==============================] - 96s 1s/step - loss: 0.1592 - binary_accuracy: 0.9430 - val_loss: 0.4308 - val_binary_accuracy: 0.8714\n",
      "Epoch 7/20\n",
      "79/79 [==============================] - 85s 1s/step - loss: 0.1551 - binary_accuracy: 0.9377 - val_loss: 0.5181 - val_binary_accuracy: 0.8536\n",
      "Restoring model weights from the end of the best epoch.\n",
      "Epoch 00007: early stopping\n"
     ]
    }
   ],
   "source": [
    "epochs = 20\n",
    "history = model.fit(\n",
    "    train_ds,\n",
    "    validation_data=val_ds,\n",
    "    epochs=epochs, \n",
    "    callbacks=[early_stopping])"
   ]
  },
  {
   "cell_type": "code",
   "execution_count": 108,
   "metadata": {},
   "outputs": [
    {
     "data": {
      "image/png": "[encoded data removed]",
      "text/plain": [
       "<Figure size 864x720 with 2 Axes>"
      ]
     },
     "metadata": {
      "needs_background": "light"
     },
     "output_type": "display_data"
    }
   ],
   "source": [
    "plt.rcParams['figure.figsize'] = (12, 10)\n",
    "colors = plt.rcParams['axes.prop_cycle'].by_key()['color']\n",
    "def plot_metrics(history):\n",
    "  metrics = ['loss', 'binary_accuracy']\n",
    "  for n, metric in enumerate(metrics):\n",
    "    name = metric.replace(\"_\",\" \").capitalize()\n",
    "    plt.subplot(2,2,n+1)\n",
    "    plt.plot(history.epoch, history.history[metric], color=colors[0], label='Train')\n",
    "    plt.plot(history.epoch, history.history['val_'+metric],\n",
    "             color=colors[0], linestyle=\"--\", label='Val')\n",
    "    plt.xlabel('Epoch')\n",
    "    plt.ylabel(name)\n",
    "    if metric == 'loss':\n",
    "      plt.ylim([0, 1])\n",
    "    elif metric == 'auc':\n",
    "      plt.ylim([0.8,1])\n",
    "    else:\n",
    "      plt.ylim([0,1])\n",
    "\n",
    "    plt.legend()\n",
    "    \n",
    "plot_metrics(history)"
   ]
  },
  {
   "cell_type": "code",
   "execution_count": 119,
   "metadata": {},
   "outputs": [
    {
     "name": "stdout",
     "output_type": "stream",
     "text": [
      "98/98 [==============================] - 28s 283ms/step - loss: 0.3301 - binary_accuracy: 0.8637\n",
      "Loss:  0.3301178812980652\n",
      "Accuracy:  0.8636800050735474\n"
     ]
    }
   ],
   "source": [
    "loss, accuracy = model.evaluate(test_ds)\n",
    "\n",
    "print(\"Loss: \", loss)\n",
    "print(\"Accuracy: \", accuracy)"
   ]
  },
  {
   "cell_type": "markdown",
   "metadata": {},
   "source": [
    "## Bi-directional LSTM model"
   ]
  },
  {
   "cell_type": "code",
   "execution_count": 113,
   "metadata": {},
   "outputs": [
    {
     "name": "stdout",
     "output_type": "stream",
     "text": [
      "Model: \"sequential_13\"\n",
      "_________________________________________________________________\n",
      "Layer (type)                 Output Shape              Param #   \n",
      "=================================================================\n",
      "text_vectorization_6 (TextVe (None, 250)               0         \n",
      "_________________________________________________________________\n",
      "embedding_13 (Embedding)     (None, 250, 16)           160016    \n",
      "_________________________________________________________________\n",
      "dropout_30 (Dropout)         (None, 250, 16)           0         \n",
      "_________________________________________________________________\n",
      "bidirectional_19 (Bidirectio (None, 250, 64)           12544     \n",
      "_________________________________________________________________\n",
      "dropout_31 (Dropout)         (None, 250, 64)           0         \n",
      "_________________________________________________________________\n",
      "bidirectional_20 (Bidirectio (None, 250, 64)           24832     \n",
      "_________________________________________________________________\n",
      "dropout_32 (Dropout)         (None, 250, 64)           0         \n",
      "_________________________________________________________________\n",
      "global_average_pooling1d_2 ( (None, 64)                0         \n",
      "_________________________________________________________________\n",
      "dropout_33 (Dropout)         (None, 64)                0         \n",
      "_________________________________________________________________\n",
      "dense_13 (Dense)             (None, 1)                 65        \n",
      "=================================================================\n",
      "Total params: 197,457\n",
      "Trainable params: 197,457\n",
      "Non-trainable params: 0\n",
      "_________________________________________________________________\n"
     ]
    }
   ],
   "source": [
    "model_LSTM = tf.keras.Sequential([\n",
    "  Input(shape=(1,), dtype=tf.string),\n",
    "  vectorize_layer,\n",
    "  layers.Embedding(max_features + 1, embedding_dim),\n",
    "  layers.Dropout(0.2),    \n",
    "  layers.Bidirectional(layers.LSTM(32, return_sequences=True)),\n",
    "  layers.Dropout(0.2),\n",
    "  layers.Bidirectional(layers.LSTM(32, return_sequences=True)),\n",
    "  layers.Dropout(0.2),\n",
    "  layers.GlobalAveragePooling1D(),\n",
    "  layers.Dropout(0.2),\n",
    "  layers.Dense(1)\n",
    "])\n",
    "\n",
    "model_LSTM.summary()"
   ]
  },
  {
   "cell_type": "code",
   "execution_count": 114,
   "metadata": {},
   "outputs": [],
   "source": [
    "early_stopping = tf.keras.callbacks.EarlyStopping(\n",
    "    monitor='val_loss', \n",
    "    verbose=1,\n",
    "    patience=3,\n",
    "    mode='min',\n",
    "    restore_best_weights=True)\n",
    "\n",
    "model_LSTM.compile(loss=losses.BinaryCrossentropy(from_logits=True),\n",
    "              optimizer=optimizers.Adam(),\n",
    "              metrics=tf.metrics.BinaryAccuracy())"
   ]
  },
  {
   "cell_type": "code",
   "execution_count": 115,
   "metadata": {},
   "outputs": [
    {
     "name": "stdout",
     "output_type": "stream",
     "text": [
      "Epoch 1/20\n",
      "79/79 [==============================] - 126s 2s/step - loss: 0.5882 - binary_accuracy: 0.6268 - val_loss: 0.3817 - val_binary_accuracy: 0.8418\n",
      "Epoch 2/20\n",
      "79/79 [==============================] - 95s 1s/step - loss: 0.2963 - binary_accuracy: 0.8766 - val_loss: 0.3056 - val_binary_accuracy: 0.8702\n",
      "Epoch 3/20\n",
      "79/79 [==============================] - 87s 1s/step - loss: 0.2257 - binary_accuracy: 0.9134 - val_loss: 0.3278 - val_binary_accuracy: 0.8706\n",
      "Epoch 4/20\n",
      "79/79 [==============================] - 84s 1s/step - loss: 0.2043 - binary_accuracy: 0.9227 - val_loss: 0.3828 - val_binary_accuracy: 0.8690\n",
      "Epoch 5/20\n",
      "79/79 [==============================] - 93s 1s/step - loss: 0.1781 - binary_accuracy: 0.9374 - val_loss: 0.4397 - val_binary_accuracy: 0.8526\n",
      "Restoring model weights from the end of the best epoch.\n",
      "Epoch 00005: early stopping\n"
     ]
    }
   ],
   "source": [
    "epochs = 20\n",
    "history_LSTM = model_LSTM.fit(\n",
    "    train_ds,\n",
    "    validation_data=val_ds,\n",
    "    epochs=epochs, \n",
    "    callbacks=[early_stopping])"
   ]
  },
  {
   "cell_type": "code",
   "execution_count": 116,
   "metadata": {},
   "outputs": [
    {
     "data": {
      "image/png": "[encoded data removed]",
      "text/plain": [
       "<Figure size 864x720 with 2 Axes>"
      ]
     },
     "metadata": {
      "needs_background": "light"
     },
     "output_type": "display_data"
    }
   ],
   "source": [
    "plot_metrics(history_LSTM)"
   ]
  },
  {
   "cell_type": "code",
   "execution_count": 117,
   "metadata": {},
   "outputs": [
    {
     "name": "stdout",
     "output_type": "stream",
     "text": [
      "98/98 [==============================] - 34s 352ms/step - loss: 0.3242 - binary_accuracy: 0.8624\n",
      "Loss:  0.3241698741912842\n",
      "Accuracy:  0.8623999953269958\n"
     ]
    }
   ],
   "source": [
    "loss, accuracy = model_LSTM.evaluate(test_ds)\n",
    "\n",
    "print(\"Loss: \", loss)\n",
    "print(\"Accuracy: \", accuracy)"
   ]
  },
  {
   "cell_type": "markdown",
   "metadata": {},
   "source": [
    "# Model evaluation to predict"
   ]
  },
  {
   "cell_type": "code",
   "execution_count": 155,
   "metadata": {},
   "outputs": [],
   "source": [
    "examples = [\n",
    "  \"Best Movie I Have Seen In At Least 10 Years, Should Be Seen Twice\", \n",
    "  \"AN EPIC SAGA OF LOVE & THRILL\",\n",
    "  \"To be honest, I did not find the movie as good enough\",\n",
    "  \"The movie was terrible...\"\n",
    "]\n",
    "\n",
    "predictions = model.predict(examples)"
   ]
  },
  {
   "cell_type": "code",
   "execution_count": 156,
   "metadata": {},
   "outputs": [
    {
     "name": "stdout",
     "output_type": "stream",
     "text": [
      "-- More readable --\n",
      "Best Movie I Have Seen In At Least 10 Years, Should Be Seen Twice => 0.15448525547981262 : Positive review\n",
      "AN EPIC SAGA OF LOVE & THRILL => 0.014763645827770233 : Positive review\n",
      "To be honest, I did not find the movie as good enough => -0.26543083786964417 : Negative review\n",
      "The movie was terrible... => -1.2031275033950806 : Very negative review\n",
      "-------------------\n"
     ]
    }
   ],
   "source": [
    "print(\"-- More readable --\")\n",
    "for i in range(len(examples)):\n",
    "    comment = examples[i]\n",
    "    score = predictions[i][0]\n",
    "    review = \"So-so\"\n",
    "    if score < -0.40:\n",
    "        review = \"Very negative review\"\n",
    "    elif score < -0.20:\n",
    "        review = \"Negative review\"\n",
    "    elif score > 0.0:\n",
    "        review = \"Positive review\"\n",
    "    print(\"{} => {} : {}\".format(comment, score, review))\n",
    "print(\"-------------------\")"
   ]
  }
 ],
 "metadata": {
  "kernelspec": {
   "display_name": "Python 3",
   "language": "python",
   "name": "python3"
  },
  "language_info": {
   "codemirror_mode": {
    "name": "ipython",
    "version": 3
   },
   "file_extension": ".py",
   "mimetype": "text/x-python",
   "name": "python",
   "nbconvert_exporter": "python",
   "pygments_lexer": "ipython3",
   "version": "3.6.7"
  }
 },
 "nbformat": 4,
 "nbformat_minor": 4
}
